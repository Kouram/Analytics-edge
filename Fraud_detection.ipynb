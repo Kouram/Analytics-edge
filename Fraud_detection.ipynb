{
  "nbformat": 4,
  "nbformat_minor": 0,
  "metadata": {
    "colab": {
      "name": "Fraud detection.ipynb",
      "provenance": [],
      "collapsed_sections": [],
      "toc_visible": true
    },
    "kernelspec": {
      "name": "python3",
      "display_name": "Python 3"
    }
  },
  "cells": [
    {
      "cell_type": "code",
      "metadata": {
        "id": "7Iq7ab8iRI6l"
      },
      "source": [
        "import pandas as pd\n",
        "import numpy as np\n",
        "%matplotlib inline\n",
        "import matplotlib.pyplot as plt\n",
        "import matplotlib.lines as mlines\n",
        "from mpl_toolkits.mplot3d import Axes3D\n",
        "import seaborn as sns\n",
        "from sklearn.model_selection import train_test_split, learning_curve\n",
        "from sklearn.metrics import average_precision_score\n",
        "from xgboost.sklearn import XGBClassifier\n",
        "from xgboost import plot_importance, to_graphviz\n",
        "import seaborn as seabornInstance \n",
        "from scipy.stats import boxcox\n",
        "from sklearn import preprocessing\n",
        "from sklearn.metrics import roc_auc_score\n",
        "from sklearn.metrics import confusion_matrix\n",
        "from sklearn.metrics import plot_roc_curve\n",
        "from sklearn.metrics import accuracy_score\n",
        "from sklearn.model_selection import train_test_split\n",
        "\n"
      ],
      "execution_count": null,
      "outputs": []
    },
    {
      "cell_type": "code",
      "metadata": {
        "colab": {
          "base_uri": "https://localhost:8080/"
        },
        "id": "KPUgDAS5UAdf",
        "outputId": "11cf2e98-48cb-4a19-d814-6a55645ae2d9"
      },
      "source": [
        "from google.colab import drive\n",
        "drive.mount('/content/drive')"
      ],
      "execution_count": null,
      "outputs": [
        {
          "output_type": "stream",
          "text": [
            "Mounted at /content/drive\n"
          ],
          "name": "stdout"
        }
      ]
    },
    {
      "cell_type": "code",
      "metadata": {
        "colab": {
          "base_uri": "https://localhost:8080/",
          "height": 217
        },
        "id": "KsTZ3HqwUS1Y",
        "outputId": "89c51752-ea38-460f-d44a-b04aea3734b4"
      },
      "source": [
        "df = pd.read_csv('/content/drive/MyDrive/Colab Notebooks/AnalyticEdge/Projet Analytics Edge/PS_20174392719_1491204439457_log.csv')\n",
        "df.head()"
      ],
      "execution_count": null,
      "outputs": [
        {
          "output_type": "execute_result",
          "data": {
            "text/html": [
              "<div>\n",
              "<style scoped>\n",
              "    .dataframe tbody tr th:only-of-type {\n",
              "        vertical-align: middle;\n",
              "    }\n",
              "\n",
              "    .dataframe tbody tr th {\n",
              "        vertical-align: top;\n",
              "    }\n",
              "\n",
              "    .dataframe thead th {\n",
              "        text-align: right;\n",
              "    }\n",
              "</style>\n",
              "<table border=\"1\" class=\"dataframe\">\n",
              "  <thead>\n",
              "    <tr style=\"text-align: right;\">\n",
              "      <th></th>\n",
              "      <th>step</th>\n",
              "      <th>type</th>\n",
              "      <th>amount</th>\n",
              "      <th>nameOrig</th>\n",
              "      <th>oldbalanceOrg</th>\n",
              "      <th>newbalanceOrig</th>\n",
              "      <th>nameDest</th>\n",
              "      <th>oldbalanceDest</th>\n",
              "      <th>newbalanceDest</th>\n",
              "      <th>isFraud</th>\n",
              "      <th>isFlaggedFraud</th>\n",
              "    </tr>\n",
              "  </thead>\n",
              "  <tbody>\n",
              "    <tr>\n",
              "      <th>0</th>\n",
              "      <td>1</td>\n",
              "      <td>PAYMENT</td>\n",
              "      <td>9839.64</td>\n",
              "      <td>C1231006815</td>\n",
              "      <td>170136.0</td>\n",
              "      <td>160296.36</td>\n",
              "      <td>M1979787155</td>\n",
              "      <td>0.0</td>\n",
              "      <td>0.0</td>\n",
              "      <td>0</td>\n",
              "      <td>0</td>\n",
              "    </tr>\n",
              "    <tr>\n",
              "      <th>1</th>\n",
              "      <td>1</td>\n",
              "      <td>PAYMENT</td>\n",
              "      <td>1864.28</td>\n",
              "      <td>C1666544295</td>\n",
              "      <td>21249.0</td>\n",
              "      <td>19384.72</td>\n",
              "      <td>M2044282225</td>\n",
              "      <td>0.0</td>\n",
              "      <td>0.0</td>\n",
              "      <td>0</td>\n",
              "      <td>0</td>\n",
              "    </tr>\n",
              "    <tr>\n",
              "      <th>2</th>\n",
              "      <td>1</td>\n",
              "      <td>TRANSFER</td>\n",
              "      <td>181.00</td>\n",
              "      <td>C1305486145</td>\n",
              "      <td>181.0</td>\n",
              "      <td>0.00</td>\n",
              "      <td>C553264065</td>\n",
              "      <td>0.0</td>\n",
              "      <td>0.0</td>\n",
              "      <td>1</td>\n",
              "      <td>0</td>\n",
              "    </tr>\n",
              "    <tr>\n",
              "      <th>3</th>\n",
              "      <td>1</td>\n",
              "      <td>CASH_OUT</td>\n",
              "      <td>181.00</td>\n",
              "      <td>C840083671</td>\n",
              "      <td>181.0</td>\n",
              "      <td>0.00</td>\n",
              "      <td>C38997010</td>\n",
              "      <td>21182.0</td>\n",
              "      <td>0.0</td>\n",
              "      <td>1</td>\n",
              "      <td>0</td>\n",
              "    </tr>\n",
              "    <tr>\n",
              "      <th>4</th>\n",
              "      <td>1</td>\n",
              "      <td>PAYMENT</td>\n",
              "      <td>11668.14</td>\n",
              "      <td>C2048537720</td>\n",
              "      <td>41554.0</td>\n",
              "      <td>29885.86</td>\n",
              "      <td>M1230701703</td>\n",
              "      <td>0.0</td>\n",
              "      <td>0.0</td>\n",
              "      <td>0</td>\n",
              "      <td>0</td>\n",
              "    </tr>\n",
              "  </tbody>\n",
              "</table>\n",
              "</div>"
            ],
            "text/plain": [
              "   step      type    amount  ... newbalanceDest  isFraud  isFlaggedFraud\n",
              "0     1   PAYMENT   9839.64  ...            0.0        0               0\n",
              "1     1   PAYMENT   1864.28  ...            0.0        0               0\n",
              "2     1  TRANSFER    181.00  ...            0.0        1               0\n",
              "3     1  CASH_OUT    181.00  ...            0.0        1               0\n",
              "4     1   PAYMENT  11668.14  ...            0.0        0               0\n",
              "\n",
              "[5 rows x 11 columns]"
            ]
          },
          "metadata": {
            "tags": []
          },
          "execution_count": 3
        }
      ]
    },
    {
      "cell_type": "code",
      "metadata": {
        "colab": {
          "base_uri": "https://localhost:8080/"
        },
        "id": "7BOgt8C1G3_m",
        "outputId": "83e3291c-b7d6-45b7-ae32-56015cbfee4b"
      },
      "source": [
        "len(df)"
      ],
      "execution_count": null,
      "outputs": [
        {
          "output_type": "execute_result",
          "data": {
            "text/plain": [
              "6362620"
            ]
          },
          "metadata": {
            "tags": []
          },
          "execution_count": 4
        }
      ]
    },
    {
      "cell_type": "code",
      "metadata": {
        "colab": {
          "base_uri": "https://localhost:8080/"
        },
        "id": "fNhEjBMKa4Od",
        "outputId": "519bb9e2-8afa-49c1-bf64-b98f6e3c9e98"
      },
      "source": [
        "df.columns"
      ],
      "execution_count": null,
      "outputs": [
        {
          "output_type": "execute_result",
          "data": {
            "text/plain": [
              "Index(['step', 'type', 'amount', 'nameOrig', 'oldbalanceOrg', 'newbalanceOrig',\n",
              "       'nameDest', 'oldbalanceDest', 'newbalanceDest', 'isFraud',\n",
              "       'isFlaggedFraud'],\n",
              "      dtype='object')"
            ]
          },
          "metadata": {
            "tags": []
          },
          "execution_count": 5
        }
      ]
    },
    {
      "cell_type": "code",
      "metadata": {
        "colab": {
          "base_uri": "https://localhost:8080/"
        },
        "id": "euppOrBPemkM",
        "outputId": "0ec00e65-bb0b-46eb-f7bd-a1237b82a441"
      },
      "source": [
        "df.shape"
      ],
      "execution_count": null,
      "outputs": [
        {
          "output_type": "execute_result",
          "data": {
            "text/plain": [
              "(6362620, 11)"
            ]
          },
          "metadata": {
            "tags": []
          },
          "execution_count": 64
        }
      ]
    },
    {
      "cell_type": "code",
      "metadata": {
        "colab": {
          "base_uri": "https://localhost:8080/"
        },
        "id": "ceAYwd7wpxu5",
        "outputId": "71fcc7b2-d954-4f5c-cbc2-704dde25074b"
      },
      "source": [
        "df.dtypes"
      ],
      "execution_count": null,
      "outputs": [
        {
          "output_type": "execute_result",
          "data": {
            "text/plain": [
              "step                int64\n",
              "type               object\n",
              "amount            float64\n",
              "nameOrig           object\n",
              "oldbalanceOrg     float64\n",
              "newbalanceOrig    float64\n",
              "nameDest           object\n",
              "oldbalanceDest    float64\n",
              "newbalanceDest    float64\n",
              "isFraud             int64\n",
              "isFlaggedFraud      int64\n",
              "dtype: object"
            ]
          },
          "metadata": {
            "tags": []
          },
          "execution_count": 65
        }
      ]
    },
    {
      "cell_type": "code",
      "metadata": {
        "colab": {
          "base_uri": "https://localhost:8080/"
        },
        "id": "cIRDFmJMYxNn",
        "outputId": "6ae15b20-c459-4922-aad8-cc5f4a3713a4"
      },
      "source": [
        "df.isna().sum() "
      ],
      "execution_count": null,
      "outputs": [
        {
          "output_type": "execute_result",
          "data": {
            "text/plain": [
              "step              0\n",
              "type              0\n",
              "amount            0\n",
              "nameOrig          0\n",
              "oldbalanceOrg     0\n",
              "newbalanceOrig    0\n",
              "nameDest          0\n",
              "oldbalanceDest    0\n",
              "newbalanceDest    0\n",
              "isFraud           0\n",
              "isFlaggedFraud    0\n",
              "dtype: int64"
            ]
          },
          "metadata": {
            "tags": []
          },
          "execution_count": 66
        }
      ]
    },
    {
      "cell_type": "code",
      "metadata": {
        "colab": {
          "base_uri": "https://localhost:8080/"
        },
        "id": "kLm_eiBrd3WE",
        "outputId": "fcd47f59-63b0-44a1-819f-fb3c43369d7e"
      },
      "source": [
        "df['isFraud'].loc[df.isFraud == 1].sum()"
      ],
      "execution_count": null,
      "outputs": [
        {
          "output_type": "execute_result",
          "data": {
            "text/plain": [
              "8213"
            ]
          },
          "metadata": {
            "tags": []
          },
          "execution_count": 7
        }
      ]
    },
    {
      "cell_type": "code",
      "metadata": {
        "colab": {
          "base_uri": "https://localhost:8080/"
        },
        "id": "9nyHjVEOlCT7",
        "outputId": "33e329c9-379a-4b32-9322-85e39de6ab11"
      },
      "source": [
        "df['isFraud'].loc[df.isFlaggedFraud == 1].sum()"
      ],
      "execution_count": null,
      "outputs": [
        {
          "output_type": "execute_result",
          "data": {
            "text/plain": [
              "16"
            ]
          },
          "metadata": {
            "tags": []
          },
          "execution_count": 8
        }
      ]
    },
    {
      "cell_type": "markdown",
      "metadata": {
        "id": "rZQ1GyOxpj4y"
      },
      "source": [
        "### **correlation between type and isFraud**"
      ]
    },
    {
      "cell_type": "code",
      "metadata": {
        "colab": {
          "base_uri": "https://localhost:8080/",
          "height": 359
        },
        "id": "DRXBXy-oiFsm",
        "outputId": "d14f0f22-37c9-47c8-e835-58502c78326c"
      },
      "source": [
        "ax = df.groupby(['type', 'isFraud']).size().plot(kind='bar')\n",
        "ax.set_title(\"# of transaction which are the actual fraud per transaction type\")\n",
        "ax.set_xlabel(\"(Type, isFraud)\")\n",
        "ax.set_ylabel(\"Count of transaction\")\n",
        "for p in ax.patches:\n",
        "    ax.annotate(str(format(int(p.get_height()), ',d')), (p.get_x(), p.get_height()*1.01))"
      ],
      "execution_count": null,
      "outputs": [
        {
          "output_type": "display_data",
          "data": {
            "image/png": "[encoded data removed]",
            "text/plain": [
              "<Figure size 432x288 with 1 Axes>"
            ]
          },
          "metadata": {
            "tags": [],
            "needs_background": "light"
          }
        }
      ]
    },
    {
      "cell_type": "markdown",
      "metadata": {
        "id": "6RLZSimiHkV8"
      },
      "source": [
        "we decide to drop all the lines where type=! tranfer or cashout , because if the type is different to transfer and cashout we already know that the transaction is not fraudulent"
      ]
    },
    {
      "cell_type": "code",
      "metadata": {
        "id": "-yf56F6Ta94S"
      },
      "source": [
        "X = df.loc[(df.type == 'TRANSFER') | (df.type == 'CASH_OUT')]\n",
        "\n",
        "randomState = 5\n",
        "np.random.seed(randomState)\n",
        "\n",
        "Y = X['isFraud']\n",
        "del X['isFraud']\n"
      ],
      "execution_count": null,
      "outputs": []
    },
    {
      "cell_type": "code",
      "metadata": {
        "colab": {
          "base_uri": "https://localhost:8080/"
        },
        "id": "L3zEr46XdsWF",
        "outputId": "6d25494a-4e7e-4632-ea09-18012582f86c"
      },
      "source": [
        "print('\\n The types of fraudulent transactions are {}'.format(\\\n",
        "list(df.loc[df.isFraud == 1].type.drop_duplicates().values))) \n",
        "\n",
        "print ('\\n The number of fraudulent TRANSFERs = {}'.\\\n",
        "       format(len(df.loc[(df.isFraud == 1) & (df.type == 'TRANSFER')]))) \n",
        "\n",
        "print ('\\n The number of fraudulent CASH_OUTs = {}'.\\\n",
        "       format(len(df.loc[(df.isFraud == 1) & (df.type == 'CASH_OUT')])))"
      ],
      "execution_count": null,
      "outputs": [
        {
          "output_type": "stream",
          "text": [
            "\n",
            " The types of fraudulent transactions are ['TRANSFER', 'CASH_OUT']\n",
            "\n",
            " The number of fraudulent TRANSFERs = 4097\n",
            "\n",
            " The number of fraudulent CASH_OUTs = 4116\n"
          ],
          "name": "stdout"
        }
      ]
    },
    {
      "cell_type": "markdown",
      "metadata": {
        "id": "1_9-zc1NTxsj"
      },
      "source": [
        "### **is ' isFlaggedFraud ' relevant or not?**"
      ]
    },
    {
      "cell_type": "code",
      "metadata": {
        "colab": {
          "base_uri": "https://localhost:8080/",
          "height": 358
        },
        "id": "U4pHoj7hiUpS",
        "outputId": "09ff5acb-1742-49c3-ebd2-15d644f7dc03"
      },
      "source": [
        "ax = X.groupby(['type', 'isFlaggedFraud']).size().plot(kind='bar')\n",
        "ax.set_title(\"# of transaction which is flagged as fraud per transaction type\")\n",
        "ax.set_xlabel(\"(Type, isFlaggedFraud)\")\n",
        "ax.set_ylabel(\"Count of transaction\")\n",
        "for p in ax.patches:\n",
        "    ax.annotate(str(format(int(p.get_height()), ',d')), (p.get_x(), p.get_height()*1.01))"
      ],
      "execution_count": null,
      "outputs": [
        {
          "output_type": "display_data",
          "data": {
            "image/png": "[encoded data removed]",
            "text/plain": [
              "<Figure size 432x288 with 1 Axes>"
            ]
          },
          "metadata": {
            "tags": [],
            "needs_background": "light"
          }
        }
      ]
    },
    {
      "cell_type": "code",
      "metadata": {
        "colab": {
          "base_uri": "https://localhost:8080/",
          "height": 137
        },
        "id": "K9QR-Iy6N5Eo",
        "outputId": "2b8ec1cf-e38c-491c-ea68-4b6e14c22081"
      },
      "source": [
        "# Investigate variable \"isFlaggedFraud\"\n",
        "pd.crosstab(Y,X.isFlaggedFraud)"
      ],
      "execution_count": null,
      "outputs": [
        {
          "output_type": "execute_result",
          "data": {
            "text/html": [
              "<div>\n",
              "<style scoped>\n",
              "    .dataframe tbody tr th:only-of-type {\n",
              "        vertical-align: middle;\n",
              "    }\n",
              "\n",
              "    .dataframe tbody tr th {\n",
              "        vertical-align: top;\n",
              "    }\n",
              "\n",
              "    .dataframe thead th {\n",
              "        text-align: right;\n",
              "    }\n",
              "</style>\n",
              "<table border=\"1\" class=\"dataframe\">\n",
              "  <thead>\n",
              "    <tr style=\"text-align: right;\">\n",
              "      <th>isFlaggedFraud</th>\n",
              "      <th>0</th>\n",
              "      <th>1</th>\n",
              "    </tr>\n",
              "    <tr>\n",
              "      <th>isFraud</th>\n",
              "      <th></th>\n",
              "      <th></th>\n",
              "    </tr>\n",
              "  </thead>\n",
              "  <tbody>\n",
              "    <tr>\n",
              "      <th>0</th>\n",
              "      <td>2762196</td>\n",
              "      <td>0</td>\n",
              "    </tr>\n",
              "    <tr>\n",
              "      <th>1</th>\n",
              "      <td>8197</td>\n",
              "      <td>16</td>\n",
              "    </tr>\n",
              "  </tbody>\n",
              "</table>\n",
              "</div>"
            ],
            "text/plain": [
              "isFlaggedFraud        0   1\n",
              "isFraud                    \n",
              "0               2762196   0\n",
              "1                  8197  16"
            ]
          },
          "metadata": {
            "tags": []
          },
          "execution_count": 10
        }
      ]
    },
    {
      "cell_type": "code",
      "metadata": {
        "colab": {
          "base_uri": "https://localhost:8080/",
          "height": 283
        },
        "id": "mtQPpea_N7HD",
        "outputId": "8f457711-f985-4ea2-8ff7-5954ab6a2e46"
      },
      "source": [
        "df.groupby('type')['isFraud','isFlaggedFraud'].sum()"
      ],
      "execution_count": null,
      "outputs": [
        {
          "output_type": "stream",
          "text": [
            "/usr/local/lib/python3.6/dist-packages/ipykernel_launcher.py:1: FutureWarning: Indexing with multiple keys (implicitly converted to a tuple of keys) will be deprecated, use a list instead.\n",
            "  \"\"\"Entry point for launching an IPython kernel.\n"
          ],
          "name": "stderr"
        },
        {
          "output_type": "execute_result",
          "data": {
            "text/html": [
              "<div>\n",
              "<style scoped>\n",
              "    .dataframe tbody tr th:only-of-type {\n",
              "        vertical-align: middle;\n",
              "    }\n",
              "\n",
              "    .dataframe tbody tr th {\n",
              "        vertical-align: top;\n",
              "    }\n",
              "\n",
              "    .dataframe thead th {\n",
              "        text-align: right;\n",
              "    }\n",
              "</style>\n",
              "<table border=\"1\" class=\"dataframe\">\n",
              "  <thead>\n",
              "    <tr style=\"text-align: right;\">\n",
              "      <th></th>\n",
              "      <th>isFraud</th>\n",
              "      <th>isFlaggedFraud</th>\n",
              "    </tr>\n",
              "    <tr>\n",
              "      <th>type</th>\n",
              "      <th></th>\n",
              "      <th></th>\n",
              "    </tr>\n",
              "  </thead>\n",
              "  <tbody>\n",
              "    <tr>\n",
              "      <th>CASH_IN</th>\n",
              "      <td>0</td>\n",
              "      <td>0</td>\n",
              "    </tr>\n",
              "    <tr>\n",
              "      <th>CASH_OUT</th>\n",
              "      <td>4116</td>\n",
              "      <td>0</td>\n",
              "    </tr>\n",
              "    <tr>\n",
              "      <th>DEBIT</th>\n",
              "      <td>0</td>\n",
              "      <td>0</td>\n",
              "    </tr>\n",
              "    <tr>\n",
              "      <th>PAYMENT</th>\n",
              "      <td>0</td>\n",
              "      <td>0</td>\n",
              "    </tr>\n",
              "    <tr>\n",
              "      <th>TRANSFER</th>\n",
              "      <td>4097</td>\n",
              "      <td>16</td>\n",
              "    </tr>\n",
              "  </tbody>\n",
              "</table>\n",
              "</div>"
            ],
            "text/plain": [
              "          isFraud  isFlaggedFraud\n",
              "type                             \n",
              "CASH_IN         0               0\n",
              "CASH_OUT     4116               0\n",
              "DEBIT           0               0\n",
              "PAYMENT         0               0\n",
              "TRANSFER     4097              16"
            ]
          },
          "metadata": {
            "tags": []
          },
          "execution_count": 11
        }
      ]
    },
    {
      "cell_type": "markdown",
      "metadata": {
        "id": "eMKOUs2y9jFe"
      },
      "source": [
        "in the data we have:\n",
        "isFlaggedFraud - The business model aims to control massive transfers from one account to another and flags illegal attempts. An illegal attempt in this dataset is an attempt to transfer more than 200.000 in a single transaction.\n",
        "let's check this information"
      ]
    },
    {
      "cell_type": "code",
      "metadata": {
        "colab": {
          "base_uri": "https://localhost:8080/"
        },
        "id": "ks5VB22s9qia",
        "outputId": "9e266a28-af30-4812-e177-f81d6e545083"
      },
      "source": [
        "print('\\nThe type of transactions in which isFlaggedFraud is set: \\\n",
        "{}'.format(list(df.loc[df.isFlaggedFraud == 1].type.drop_duplicates()))) \n",
        "XTransfer = X.loc[X.type == 'TRANSFER']\n",
        "XFlagged = X.loc[X.isFlaggedFraud == 1]\n",
        "XNotFlagged = X.loc[X.isFlaggedFraud == 0]\n",
        "print('\\nMin amount transacted when isFlaggedFraud is set= {}'\\\n",
        "      .format(XFlagged.amount.min()))\n",
        "\n",
        "print('\\nMax amount transacted in a TRANSFER where isFlaggedFraud is not set=\\\n",
        " {}'.format(XTransfer.loc[XTransfer.isFlaggedFraud == 0].amount.max()))"
      ],
      "execution_count": null,
      "outputs": [
        {
          "output_type": "stream",
          "text": [
            "\n",
            "The type of transactions in which isFlaggedFraud is set: ['TRANSFER']\n",
            "\n",
            "Min amount transacted when isFlaggedFraud is set= 353874.22\n",
            "\n",
            "Max amount transacted in a TRANSFER where isFlaggedFraud is not set= 92445516.64\n"
          ],
          "name": "stdout"
        }
      ]
    },
    {
      "cell_type": "markdown",
      "metadata": {
        "id": "QvepXI2y_PF8"
      },
      "source": [
        "isFlaggedFraud can remain not set despite this condition being met."
      ]
    },
    {
      "cell_type": "markdown",
      "metadata": {
        "id": "nEjj9D6d4b5d"
      },
      "source": [
        "### **NameOrig and NameDest are they relevant?**"
      ]
    },
    {
      "cell_type": "code",
      "metadata": {
        "id": "g9hJvh8F4foQ"
      },
      "source": [
        "data_new = df.copy() # creating copy of dataset in case I need original dataset\n",
        "data_new = data_new[(data_new[\"type\"] == \"CASH_OUT\") | (data_new[\"type\"] == \"TRANSFER\")]"
      ],
      "execution_count": null,
      "outputs": []
    },
    {
      "cell_type": "code",
      "metadata": {
        "id": "66WKwVxb4p8s"
      },
      "source": [
        "fraud = data_new[data_new[\"isFraud\"] == 1]"
      ],
      "execution_count": null,
      "outputs": []
    },
    {
      "cell_type": "code",
      "metadata": {
        "colab": {
          "base_uri": "https://localhost:8080/"
        },
        "id": "pPFV8MwA47_9",
        "outputId": "e7471530-7496-4580-fda3-f86a0064118a"
      },
      "source": [
        "# separating transfers and cashouts for fraud accounts\n",
        "\n",
        "fraud_transfer = fraud[fraud[\"type\"] == \"TRANSFER\"]\n",
        "fraud_cashout = fraud[fraud[\"type\"] == \"CASH_OUT\"]\n",
        "\n",
        "# checking if the recipient account of a fraudulent transfer was used as a sending account for cashing out \n",
        "fraud_transfer.nameDest.isin(fraud_cashout.nameOrig).any()"
      ],
      "execution_count": null,
      "outputs": [
        {
          "output_type": "execute_result",
          "data": {
            "text/plain": [
              "False"
            ]
          },
          "metadata": {
            "tags": []
          },
          "execution_count": 7
        }
      ]
    },
    {
      "cell_type": "markdown",
      "metadata": {
        "id": "zT7bmBSN5Vd7"
      },
      "source": [
        "Conclusion:\n",
        "Thus in this dataset, for fraudulent transactions, the account that received funds during a transfer was not used at all for cashing out.\n",
        "\n",
        "If that is the case, there seems to be no use for nameOrig or nameDest since there seems to be no restrictions on which accounts cashout from fraudulent transactions.\n",
        "\n",
        "Thus, we're omitting the nameOrig and nameDest columns from analysis."
      ]
    },
    {
      "cell_type": "code",
      "metadata": {
        "id": "GpgHeGc8bnDE"
      },
      "source": [
        "# Eliminate columns shown to be irrelevant for analysis\n",
        "X = X.drop(['nameOrig', 'nameDest', 'isFlaggedFraud'], axis = 1)"
      ],
      "execution_count": null,
      "outputs": []
    },
    {
      "cell_type": "markdown",
      "metadata": {
        "id": "GTAqpHULAzje"
      },
      "source": [
        "### **Step and isFraud**"
      ]
    },
    {
      "cell_type": "code",
      "metadata": {
        "colab": {
          "base_uri": "https://localhost:8080/",
          "height": 575
        },
        "id": "19WhPJPhA3aY",
        "outputId": "47e10ed0-c666-4045-cddb-1b433f86fdba"
      },
      "source": [
        "# Time patterns\n",
        "\n",
        "bins = 50\n",
        "\n",
        "valid.hist(column=\"step\",color=\"green\",bins=bins)\n",
        "plt.xlabel(\"1 hour time step\")\n",
        "plt.ylabel(\"# of transactions\")\n",
        "plt.title(\"# of valid transactions over time\")\n",
        "\n",
        "fraud.hist(column =\"step\",color=\"red\",bins=bins)\n",
        "plt.xlabel(\"1 hour time step\")\n",
        "plt.ylabel(\"# of transactions\")\n",
        "plt.title(\"# of fraud transactions over time\")\n",
        "\n",
        "plt.tight_layout()\n",
        "plt.show()"
      ],
      "execution_count": null,
      "outputs": [
        {
          "output_type": "display_data",
          "data": {
            "image/png": "[encoded data removed]",
            "text/plain": [
              "<Figure size 432x288 with 1 Axes>"
            ]
          },
          "metadata": {
            "tags": [],
            "needs_background": "light"
          }
        },
        {
          "output_type": "display_data",
          "data": {
            "image/png": "[encoded data removed]",
            "text/plain": [
              "<Figure size 432x288 with 1 Axes>"
            ]
          },
          "metadata": {
            "tags": [],
            "needs_background": "light"
          }
        }
      ]
    },
    {
      "cell_type": "markdown",
      "metadata": {
        "id": "jl6bQ89wDYqe"
      },
      "source": [
        "There are stark difference between the step data between valid and fraud transactions.\n",
        "\n",
        "A large proportion of valid transactions occur between around the 0th and 60th timestep as well as the 110th and 410th time-steps.\n",
        "The frequency at which fraudulent transactions occur does not seem to change much over time.\n",
        "\n",
        "Let's see what the patterns look like over any particular, day of the week or hour of the day."
      ]
    },
    {
      "cell_type": "code",
      "metadata": {
        "colab": {
          "base_uri": "https://localhost:8080/",
          "height": 297
        },
        "id": "zfE8COw1EHim",
        "outputId": "298a32bf-28fe-44c0-b3c1-20c3e1fb47e8"
      },
      "source": [
        "# getting hours and days of the week\n",
        "num_days = 7\n",
        "num_hours = 24\n",
        "fraud_days = fraud.step % num_days\n",
        "fraud_hours = fraud.step % num_hours\n",
        "valid_days = valid.step % num_days\n",
        "valid_hours = valid.step % num_hours\n",
        "\n",
        "# plotting scatterplot of the days of the week, identifying the fraudulent transactions (red) from the valid transactions (green) \n",
        "plt.subplot(1, 2, 1)\n",
        "fraud_days.hist(bins=num_days,color=\"red\")\n",
        "plt.title('Fraud transactions by Day')\n",
        "plt.xlabel('Day of the Week')\n",
        "plt.ylabel(\"# of transactions\")\n",
        "\n",
        "plt.subplot(1,2,2)\n",
        "valid_days.hist(bins=num_days,color=\"green\")\n",
        "plt.title('Valid transactions by Day')\n",
        "plt.xlabel('Day of the Week')\n",
        "plt.ylabel(\"# of transactions\")\n",
        "\n",
        "plt.tight_layout()\n",
        "plt.show()"
      ],
      "execution_count": null,
      "outputs": [
        {
          "output_type": "display_data",
          "data": {
            "image/png": "[encoded data removed]",
            "text/plain": [
              "<Figure size 432x288 with 2 Axes>"
            ]
          },
          "metadata": {
            "tags": [],
            "needs_background": "light"
          }
        }
      ]
    },
    {
      "cell_type": "markdown",
      "metadata": {
        "id": "r92aovt5EM7G"
      },
      "source": [
        "Note: With respect to days, day 0 does not necessarily mean the first day of the week, Sunday.\n",
        "\n",
        "E.g If day 0 is Wednesday, then day 1 is Thursday, day 2 is Friday and so on...\n",
        "\n",
        "From the graphs above, there is little evidence to suggest that fraudulent transactions occur at particular days of the week.\n",
        "\n",
        "Much like valid transactions, fraudulent transactions seem to occur uniformally for each day of the week.\n",
        "\n",
        "Thus I won't make a feature showing what day of the week that the transaction occured."
      ]
    },
    {
      "cell_type": "code",
      "metadata": {
        "colab": {
          "base_uri": "https://localhost:8080/",
          "height": 297
        },
        "id": "dKdC0_qYEQ9c",
        "outputId": "f290c08c-62be-42e7-f0bc-42c5da0a12f4"
      },
      "source": [
        "plt.subplot(1, 2, 1)\n",
        "fraud_hours.hist(bins=num_hours, color=\"red\")\n",
        "plt.title('Fraud transactions by Hour')\n",
        "plt.xlabel('Hour of the Day')\n",
        "plt.ylabel(\"# of transactions\")\n",
        "\n",
        "\n",
        "plt.subplot(1, 2, 2)\n",
        "valid_hours.hist(bins=num_hours, color=\"green\")\n",
        "plt.title('Valid transactions by Hour')\n",
        "plt.xlabel('Hour of the Day')\n",
        "plt.ylabel(\"# of transactions\")\n",
        "\n",
        "plt.tight_layout()\n",
        "plt.show()"
      ],
      "execution_count": null,
      "outputs": [
        {
          "output_type": "display_data",
          "data": {
            "image/png": "[encoded data removed]",
            "text/plain": [
              "<Figure size 432x288 with 2 Axes>"
            ]
          },
          "metadata": {
            "tags": [],
            "needs_background": "light"
          }
        }
      ]
    },
    {
      "cell_type": "markdown",
      "metadata": {
        "id": "IeEG9TVmFDiu"
      },
      "source": [
        "Conclusion:\n",
        "Note: With respect to days, hour 0 does not necessarily mean 1am in the morning.\n",
        "\n",
        "E.g If hour 0 is 9am, then hour 1 is 10 am, hour 2 is 11am and so on...\n",
        "\n",
        "From the graphs above, there is strong evidence to suggest that from hour 0 to hour 9 (inclusive) valid transactions very seldom occur. On the other hand, fraudulent transactions still occur at similar rates to any hour of the day outside of hours 0 to 9 (inclusive).\n",
        "\n",
        "In response to this, we will create another feature HourOfDay, which is the step column with each number taken to modulo 24."
      ]
    },
    {
      "cell_type": "code",
      "metadata": {
        "id": "gtXz6tG7FEHs"
      },
      "source": [
        "\n",
        "X[\"HourOfDay\"] = np.nan # initializing feature column\n",
        "X.HourOfDay = X.step % 24"
      ],
      "execution_count": null,
      "outputs": []
    },
    {
      "cell_type": "markdown",
      "metadata": {
        "id": "t8mMtlpSOShI"
      },
      "source": [
        "### **visualise balances vs isFraud**"
      ]
    },
    {
      "cell_type": "code",
      "metadata": {
        "colab": {
          "base_uri": "https://localhost:8080/",
          "height": 443
        },
        "id": "_uVLY7rtOWLQ",
        "outputId": "443ce9b4-86c4-47b1-ec84-8ecf8ea7ca12"
      },
      "source": [
        "fig, axs = plt.subplots(2,2, figsize=(16,8))\n",
        "s = sns.boxplot(ax = axs[0][0], x=\"isFraud\", y=\"oldbalanceOrg\", hue=\"isFraud\",data=df, palette=\"PRGn\",showfliers=True)\n",
        "s = sns.boxplot(ax = axs[0][1], x=\"isFraud\", y=\"newbalanceOrig\", hue=\"isFraud\",data=df, palette=\"PRGn\",showfliers=False)\n",
        "s = sns.boxplot(ax = axs[1][0], x=\"isFraud\", y=\"oldbalanceDest\", hue=\"isFraud\",data=df, palette=\"PRGn\",showfliers=False)\n",
        "s = sns.boxplot(ax = axs[1][1], x=\"isFraud\", y=\"newbalanceDest\", hue=\"isFraud\",data=df, palette=\"PRGn\",showfliers=False)\n",
        "plt.show()"
      ],
      "execution_count": null,
      "outputs": [
        {
          "output_type": "display_data",
          "data": {
            "image/png": "[encoded data removed]",
            "text/plain": [
              "<Figure size 1152x576 with 4 Axes>"
            ]
          },
          "metadata": {
            "tags": [],
            "needs_background": "light"
          }
        }
      ]
    },
    {
      "cell_type": "code",
      "metadata": {
        "colab": {
          "base_uri": "https://localhost:8080/",
          "height": 290
        },
        "id": "GwUx_XTdObEv",
        "outputId": "e7c16f1b-429e-4920-95c4-5b0e4db9ebf4"
      },
      "source": [
        "s = sns.boxplot(x=\"isFraud\", y=\"amount\", hue=\"isFraud\",data=df, palette=\"PRGn\",showfliers=True)\n",
        "plt.show()"
      ],
      "execution_count": null,
      "outputs": [
        {
          "output_type": "display_data",
          "data": {
            "image/png": "[encoded data removed]",
            "text/plain": [
              "<Figure size 432x288 with 1 Axes>"
            ]
          },
          "metadata": {
            "tags": [],
            "needs_background": "light"
          }
        }
      ]
    },
    {
      "cell_type": "markdown",
      "metadata": {
        "id": "Gfce_rPgpsA8"
      },
      "source": [
        "### correlation between amount and isFraud"
      ]
    },
    {
      "cell_type": "code",
      "metadata": {
        "colab": {
          "base_uri": "https://localhost:8080/",
          "height": 688
        },
        "id": "0l8A_-vLxOtA",
        "outputId": "d4aa47a3-fe04-4a27-ad59-4d8ee5db32fb"
      },
      "source": [
        "#distplot\n",
        "plt.figure(figsize=(15,10))\n",
        "plt.tight_layout()\n",
        "seabornInstance.distplot(fraud['amount'])"
      ],
      "execution_count": null,
      "outputs": [
        {
          "output_type": "stream",
          "text": [
            "/usr/local/lib/python3.6/dist-packages/seaborn/distributions.py:2557: FutureWarning: `distplot` is a deprecated function and will be removed in a future version. Please adapt your code to use either `displot` (a figure-level function with similar flexibility) or `histplot` (an axes-level function for histograms).\n",
            "  warnings.warn(msg, FutureWarning)\n"
          ],
          "name": "stderr"
        },
        {
          "output_type": "execute_result",
          "data": {
            "text/plain": [
              "<matplotlib.axes._subplots.AxesSubplot at 0x7fa587e69438>"
            ]
          },
          "metadata": {
            "tags": []
          },
          "execution_count": 18
        },
        {
          "output_type": "display_data",
          "data": {
            "image/png": "[encoded data removed]",
            "text/plain": [
              "<Figure size 1080x720 with 1 Axes>"
            ]
          },
          "metadata": {
            "tags": [],
            "needs_background": "light"
          }
        }
      ]
    },
    {
      "cell_type": "code",
      "metadata": {
        "colab": {
          "base_uri": "https://localhost:8080/",
          "height": 197
        },
        "id": "nRskjdNo7k2u",
        "outputId": "590798ad-856f-4f8b-9a07-6b57d87e9e45"
      },
      "source": [
        "X.head()"
      ],
      "execution_count": null,
      "outputs": [
        {
          "output_type": "execute_result",
          "data": {
            "text/html": [
              "<div>\n",
              "<style scoped>\n",
              "    .dataframe tbody tr th:only-of-type {\n",
              "        vertical-align: middle;\n",
              "    }\n",
              "\n",
              "    .dataframe tbody tr th {\n",
              "        vertical-align: top;\n",
              "    }\n",
              "\n",
              "    .dataframe thead th {\n",
              "        text-align: right;\n",
              "    }\n",
              "</style>\n",
              "<table border=\"1\" class=\"dataframe\">\n",
              "  <thead>\n",
              "    <tr style=\"text-align: right;\">\n",
              "      <th></th>\n",
              "      <th>step</th>\n",
              "      <th>type</th>\n",
              "      <th>amount</th>\n",
              "      <th>oldbalanceOrg</th>\n",
              "      <th>newbalanceOrig</th>\n",
              "      <th>oldbalanceDest</th>\n",
              "      <th>newbalanceDest</th>\n",
              "      <th>HourOfDay</th>\n",
              "    </tr>\n",
              "  </thead>\n",
              "  <tbody>\n",
              "    <tr>\n",
              "      <th>2</th>\n",
              "      <td>1</td>\n",
              "      <td>TRANSFER</td>\n",
              "      <td>181.00</td>\n",
              "      <td>181.0</td>\n",
              "      <td>0.0</td>\n",
              "      <td>0.0</td>\n",
              "      <td>0.00</td>\n",
              "      <td>1</td>\n",
              "    </tr>\n",
              "    <tr>\n",
              "      <th>3</th>\n",
              "      <td>1</td>\n",
              "      <td>CASH_OUT</td>\n",
              "      <td>181.00</td>\n",
              "      <td>181.0</td>\n",
              "      <td>0.0</td>\n",
              "      <td>21182.0</td>\n",
              "      <td>0.00</td>\n",
              "      <td>1</td>\n",
              "    </tr>\n",
              "    <tr>\n",
              "      <th>15</th>\n",
              "      <td>1</td>\n",
              "      <td>CASH_OUT</td>\n",
              "      <td>229133.94</td>\n",
              "      <td>15325.0</td>\n",
              "      <td>0.0</td>\n",
              "      <td>5083.0</td>\n",
              "      <td>51513.44</td>\n",
              "      <td>1</td>\n",
              "    </tr>\n",
              "    <tr>\n",
              "      <th>19</th>\n",
              "      <td>1</td>\n",
              "      <td>TRANSFER</td>\n",
              "      <td>215310.30</td>\n",
              "      <td>705.0</td>\n",
              "      <td>0.0</td>\n",
              "      <td>22425.0</td>\n",
              "      <td>0.00</td>\n",
              "      <td>1</td>\n",
              "    </tr>\n",
              "    <tr>\n",
              "      <th>24</th>\n",
              "      <td>1</td>\n",
              "      <td>TRANSFER</td>\n",
              "      <td>311685.89</td>\n",
              "      <td>10835.0</td>\n",
              "      <td>0.0</td>\n",
              "      <td>6267.0</td>\n",
              "      <td>2719172.89</td>\n",
              "      <td>1</td>\n",
              "    </tr>\n",
              "  </tbody>\n",
              "</table>\n",
              "</div>"
            ],
            "text/plain": [
              "    step      type     amount  ...  oldbalanceDest  newbalanceDest  HourOfDay\n",
              "2      1  TRANSFER     181.00  ...             0.0            0.00          1\n",
              "3      1  CASH_OUT     181.00  ...         21182.0            0.00          1\n",
              "15     1  CASH_OUT  229133.94  ...          5083.0        51513.44          1\n",
              "19     1  TRANSFER  215310.30  ...         22425.0            0.00          1\n",
              "24     1  TRANSFER  311685.89  ...          6267.0      2719172.89          1\n",
              "\n",
              "[5 rows x 8 columns]"
            ]
          },
          "metadata": {
            "tags": []
          },
          "execution_count": 10
        }
      ]
    },
    {
      "cell_type": "markdown",
      "metadata": {
        "id": "h-EIPB-OC-bB"
      },
      "source": [
        "### others remarks\n"
      ]
    },
    {
      "cell_type": "code",
      "metadata": {
        "colab": {
          "base_uri": "https://localhost:8080/"
        },
        "id": "fk0RKqKYDQJ-",
        "outputId": "b5009e4f-b08e-434c-c0ac-48efbf4a061b"
      },
      "source": [
        "print(\"percentage for fraudulent transactions that has zero balances in the destination account both before and after a non-zero amount : {}\".\n",
        "      format((fraud.loc[(fraud.oldbalanceDest == 0) & (fraud.newbalanceDest == 0) & (fraud.amount != 0)].shape[0])/(fraud.shape[0])))\n",
        "print(\"percentage for valid transactions that has zero balances in the destination account both before and after a non-zero amount : {}\".\n",
        "      format((valid.loc[(valid.oldbalanceDest == 0) & (valid.newbalanceDest == 0) & (valid.amount != 0)].shape[0])/(valid.shape[0])))"
      ],
      "execution_count": null,
      "outputs": [
        {
          "output_type": "stream",
          "text": [
            "percentage for fraudulent transactions that has zero balances in the destination account both before and after a non-zero amount : 0.4955558261293072\n",
            "percentage for valid transactions that has zero balances in the destination account both before and after a non-zero amount : 0.0006176245277308345\n"
          ],
          "name": "stdout"
        }
      ]
    },
    {
      "cell_type": "markdown",
      "metadata": {
        "id": "hln3JkUlGoM1"
      },
      "source": [
        "The data has several transactions with zero balances in the destination account both before and after a non-zero amount is transacted. The fraction of such transactions, where zero likely denotes a missing value, is much larger in fraudulent (49.55%) compared to genuine transactions (0.06%)."
      ]
    },
    {
      "cell_type": "code",
      "metadata": {
        "colab": {
          "base_uri": "https://localhost:8080/"
        },
        "id": "NLKLG3kYy2L_",
        "outputId": "1459b117-9ae4-47c0-bd4a-89d7e97dafa5"
      },
      "source": [
        "print(\"percentage of fraudulent transactions with zero balances in the destination account both before and after a non-zero amount : {}\".\n",
        "      format((fraud.loc[(fraud.oldbalanceDest == 0) & (fraud.newbalanceDest == 0) & (fraud.amount != 0)].shape[0])/(X.shape[0])))\n",
        "print(\"percentage of valid transactions with zero balances in the destination account both before and after a non-zero amount : {}\".\n",
        "      format((valid.loc[(valid.oldbalanceDest == 0) & (valid.newbalanceDest == 0) & (valid.amount != 0)].shape[0])/(X.shape[0])))"
      ],
      "execution_count": null,
      "outputs": [
        {
          "output_type": "stream",
          "text": [
            "percentage of fraudulent transactions with zero balances in the destination account both before and after a non-zero amount : 0.0014690971621879657\n",
            "percentage of valid transactions with zero balances in the destination account both before and after a non-zero amount : 0.0006157935525043414\n"
          ],
          "name": "stdout"
        }
      ]
    },
    {
      "cell_type": "markdown",
      "metadata": {
        "id": "ph165X6ZHZMq"
      },
      "source": [
        "Since the destination account balances being zero is a strong indicator of fraud, we do not impute the account balance (before the transaction is made) with a statistic or from a distribution with a subsequent adjustment for the amount transacted. Doing so would mask this indicator of fraud and make fraudulent transactions appear genuine. Instead, below we replace the value of 0 with -1 which will be more useful to a suitable machine-learning (ML) algorithm detecting fraud."
      ]
    },
    {
      "cell_type": "code",
      "metadata": {
        "id": "jENg6Zh-Hg8E"
      },
      "source": [
        "X.loc[(X.oldbalanceDest == 0) & (X.newbalanceDest == 0) & (X.amount != 0), ['oldbalanceDest', 'newbalanceDest']] = - 1"
      ],
      "execution_count": null,
      "outputs": []
    },
    {
      "cell_type": "code",
      "metadata": {
        "colab": {
          "base_uri": "https://localhost:8080/",
          "height": 197
        },
        "id": "2-6KfwEmI5Zs",
        "outputId": "82bc6020-6af6-421c-94ae-9550839bc7e3"
      },
      "source": [
        "X.head()"
      ],
      "execution_count": null,
      "outputs": [
        {
          "output_type": "execute_result",
          "data": {
            "text/html": [
              "<div>\n",
              "<style scoped>\n",
              "    .dataframe tbody tr th:only-of-type {\n",
              "        vertical-align: middle;\n",
              "    }\n",
              "\n",
              "    .dataframe tbody tr th {\n",
              "        vertical-align: top;\n",
              "    }\n",
              "\n",
              "    .dataframe thead th {\n",
              "        text-align: right;\n",
              "    }\n",
              "</style>\n",
              "<table border=\"1\" class=\"dataframe\">\n",
              "  <thead>\n",
              "    <tr style=\"text-align: right;\">\n",
              "      <th></th>\n",
              "      <th>step</th>\n",
              "      <th>type</th>\n",
              "      <th>amount</th>\n",
              "      <th>oldbalanceOrg</th>\n",
              "      <th>newbalanceOrig</th>\n",
              "      <th>oldbalanceDest</th>\n",
              "      <th>newbalanceDest</th>\n",
              "      <th>HourOfDay</th>\n",
              "    </tr>\n",
              "  </thead>\n",
              "  <tbody>\n",
              "    <tr>\n",
              "      <th>2</th>\n",
              "      <td>1</td>\n",
              "      <td>TRANSFER</td>\n",
              "      <td>181.00</td>\n",
              "      <td>181.0</td>\n",
              "      <td>0.0</td>\n",
              "      <td>-1.0</td>\n",
              "      <td>-1.00</td>\n",
              "      <td>1</td>\n",
              "    </tr>\n",
              "    <tr>\n",
              "      <th>3</th>\n",
              "      <td>1</td>\n",
              "      <td>CASH_OUT</td>\n",
              "      <td>181.00</td>\n",
              "      <td>181.0</td>\n",
              "      <td>0.0</td>\n",
              "      <td>21182.0</td>\n",
              "      <td>0.00</td>\n",
              "      <td>1</td>\n",
              "    </tr>\n",
              "    <tr>\n",
              "      <th>15</th>\n",
              "      <td>1</td>\n",
              "      <td>CASH_OUT</td>\n",
              "      <td>229133.94</td>\n",
              "      <td>15325.0</td>\n",
              "      <td>0.0</td>\n",
              "      <td>5083.0</td>\n",
              "      <td>51513.44</td>\n",
              "      <td>1</td>\n",
              "    </tr>\n",
              "    <tr>\n",
              "      <th>19</th>\n",
              "      <td>1</td>\n",
              "      <td>TRANSFER</td>\n",
              "      <td>215310.30</td>\n",
              "      <td>705.0</td>\n",
              "      <td>0.0</td>\n",
              "      <td>22425.0</td>\n",
              "      <td>0.00</td>\n",
              "      <td>1</td>\n",
              "    </tr>\n",
              "    <tr>\n",
              "      <th>24</th>\n",
              "      <td>1</td>\n",
              "      <td>TRANSFER</td>\n",
              "      <td>311685.89</td>\n",
              "      <td>10835.0</td>\n",
              "      <td>0.0</td>\n",
              "      <td>6267.0</td>\n",
              "      <td>2719172.89</td>\n",
              "      <td>1</td>\n",
              "    </tr>\n",
              "  </tbody>\n",
              "</table>\n",
              "</div>"
            ],
            "text/plain": [
              "    step      type     amount  ...  oldbalanceDest  newbalanceDest  HourOfDay\n",
              "2      1  TRANSFER     181.00  ...            -1.0           -1.00          1\n",
              "3      1  CASH_OUT     181.00  ...         21182.0            0.00          1\n",
              "15     1  CASH_OUT  229133.94  ...          5083.0        51513.44          1\n",
              "19     1  TRANSFER  215310.30  ...         22425.0            0.00          1\n",
              "24     1  TRANSFER  311685.89  ...          6267.0      2719172.89          1\n",
              "\n",
              "[5 rows x 8 columns]"
            ]
          },
          "metadata": {
            "tags": []
          },
          "execution_count": 12
        }
      ]
    },
    {
      "cell_type": "code",
      "metadata": {
        "colab": {
          "base_uri": "https://localhost:8080/",
          "height": 688
        },
        "id": "2mfJP9lRyATz",
        "outputId": "1e97b824-13e1-47dc-d189-1eacd9dfef31"
      },
      "source": [
        "#distplot\n",
        "plt.figure(figsize=(15,10))\n",
        "plt.tight_layout()\n",
        "seabornInstance.distplot(valid['amount'])"
      ],
      "execution_count": null,
      "outputs": [
        {
          "output_type": "stream",
          "text": [
            "/usr/local/lib/python3.6/dist-packages/seaborn/distributions.py:2557: FutureWarning: `distplot` is a deprecated function and will be removed in a future version. Please adapt your code to use either `displot` (a figure-level function with similar flexibility) or `histplot` (an axes-level function for histograms).\n",
            "  warnings.warn(msg, FutureWarning)\n"
          ],
          "name": "stderr"
        },
        {
          "output_type": "execute_result",
          "data": {
            "text/plain": [
              "<matplotlib.axes._subplots.AxesSubplot at 0x7f054a7153c8>"
            ]
          },
          "metadata": {
            "tags": []
          },
          "execution_count": 48
        },
        {
          "output_type": "display_data",
          "data": {
            "image/png": "[encoded data removed]",
            "text/plain": [
              "<Figure size 1080x720 with 1 Axes>"
            ]
          },
          "metadata": {
            "tags": [],
            "needs_background": "light"
          }
        }
      ]
    },
    {
      "cell_type": "markdown",
      "metadata": {
        "id": "sVN60dGcD1at"
      },
      "source": [
        "### feature engineering"
      ]
    },
    {
      "cell_type": "markdown",
      "metadata": {
        "id": "WZjoBOmzIBc0"
      },
      "source": [
        "we introduce two new columns which will improve ML model"
      ]
    },
    {
      "cell_type": "code",
      "metadata": {
        "id": "iyxkCMrzFWyE"
      },
      "source": [
        "X['errorBalanceOrig'] = X.newbalanceOrig + X.amount - X.oldbalanceOrg\n",
        "X['errorBalanceDest'] = X.oldbalanceDest + X.amount - X.newbalanceDest"
      ],
      "execution_count": null,
      "outputs": []
    },
    {
      "cell_type": "code",
      "metadata": {
        "id": "n65DGgCJ7WjA",
        "colab": {
          "base_uri": "https://localhost:8080/",
          "height": 155
        },
        "outputId": "2023004b-afc6-4d5d-c967-dc205409747a"
      },
      "source": [
        "print('Percentage of transactions with non-zero \\'errorBalanceOrig\\'')\n",
        "pd.DataFrame(X.groupby('type').apply(lambda X:len(X.loc[X.errorBalanceOrig != 0]) / len(X)))"
      ],
      "execution_count": null,
      "outputs": [
        {
          "output_type": "stream",
          "text": [
            "Percentage of transactions with non-zero 'errorBalanceOrig'\n"
          ],
          "name": "stdout"
        },
        {
          "output_type": "execute_result",
          "data": {
            "text/html": [
              "<div>\n",
              "<style scoped>\n",
              "    .dataframe tbody tr th:only-of-type {\n",
              "        vertical-align: middle;\n",
              "    }\n",
              "\n",
              "    .dataframe tbody tr th {\n",
              "        vertical-align: top;\n",
              "    }\n",
              "\n",
              "    .dataframe thead th {\n",
              "        text-align: right;\n",
              "    }\n",
              "</style>\n",
              "<table border=\"1\" class=\"dataframe\">\n",
              "  <thead>\n",
              "    <tr style=\"text-align: right;\">\n",
              "      <th></th>\n",
              "      <th>0</th>\n",
              "    </tr>\n",
              "    <tr>\n",
              "      <th>type</th>\n",
              "      <th></th>\n",
              "    </tr>\n",
              "  </thead>\n",
              "  <tbody>\n",
              "    <tr>\n",
              "      <th>CASH_OUT</th>\n",
              "      <td>0.898052</td>\n",
              "    </tr>\n",
              "    <tr>\n",
              "      <th>TRANSFER</th>\n",
              "      <td>0.958963</td>\n",
              "    </tr>\n",
              "  </tbody>\n",
              "</table>\n",
              "</div>"
            ],
            "text/plain": [
              "                 0\n",
              "type              \n",
              "CASH_OUT  0.898052\n",
              "TRANSFER  0.958963"
            ]
          },
          "metadata": {
            "tags": []
          },
          "execution_count": 9
        }
      ]
    },
    {
      "cell_type": "code",
      "metadata": {
        "id": "8IYcMAlA7Zbl",
        "colab": {
          "base_uri": "https://localhost:8080/",
          "height": 155
        },
        "outputId": "2779fdb1-a916-4efa-9f06-2e0f7e7182fb"
      },
      "source": [
        "print('Percentage of transactions with non-zero \\'errorBalanceDest\\'')\n",
        "pd.DataFrame(X.groupby('type').apply(lambda X:len(X.loc[X.errorBalanceDest != 0]) / len(X)))"
      ],
      "execution_count": null,
      "outputs": [
        {
          "output_type": "stream",
          "text": [
            "Percentage of transactions with non-zero 'errorBalanceDest'\n"
          ],
          "name": "stdout"
        },
        {
          "output_type": "execute_result",
          "data": {
            "text/html": [
              "<div>\n",
              "<style scoped>\n",
              "    .dataframe tbody tr th:only-of-type {\n",
              "        vertical-align: middle;\n",
              "    }\n",
              "\n",
              "    .dataframe tbody tr th {\n",
              "        vertical-align: top;\n",
              "    }\n",
              "\n",
              "    .dataframe thead th {\n",
              "        text-align: right;\n",
              "    }\n",
              "</style>\n",
              "<table border=\"1\" class=\"dataframe\">\n",
              "  <thead>\n",
              "    <tr style=\"text-align: right;\">\n",
              "      <th></th>\n",
              "      <th>0</th>\n",
              "    </tr>\n",
              "    <tr>\n",
              "      <th>type</th>\n",
              "      <th></th>\n",
              "    </tr>\n",
              "  </thead>\n",
              "  <tbody>\n",
              "    <tr>\n",
              "      <th>CASH_OUT</th>\n",
              "      <td>0.417347</td>\n",
              "    </tr>\n",
              "    <tr>\n",
              "      <th>TRANSFER</th>\n",
              "      <td>0.436039</td>\n",
              "    </tr>\n",
              "  </tbody>\n",
              "</table>\n",
              "</div>"
            ],
            "text/plain": [
              "                 0\n",
              "type              \n",
              "CASH_OUT  0.417347\n",
              "TRANSFER  0.436039"
            ]
          },
          "metadata": {
            "tags": []
          },
          "execution_count": 10
        }
      ]
    },
    {
      "cell_type": "code",
      "metadata": {
        "id": "wRZT0lzJ8_ey"
      },
      "source": [
        "# Binary-encoding of labelled data in 'type'\n",
        "X.loc[X.type == 'TRANSFER', 'type'] = 0\n",
        "X.loc[X.type == 'CASH_OUT', 'type'] = 1\n",
        "X.type = X.type.astype(int) # convert dtype('O') to dtype(int)"
      ],
      "execution_count": null,
      "outputs": []
    },
    {
      "cell_type": "code",
      "metadata": {
        "id": "kE1lB7eq9wlg"
      },
      "source": [
        "# the feature 'HourOfDay' we added previously replaces 'step', ie we considered that we have extracted the relevant information from step\n",
        "# del X['step']"
      ],
      "execution_count": null,
      "outputs": []
    },
    {
      "cell_type": "code",
      "metadata": {
        "colab": {
          "base_uri": "https://localhost:8080/",
          "height": 197
        },
        "id": "w2ACWk3bwouR",
        "outputId": "1e93227c-43c2-4de5-d790-a8339b634df5"
      },
      "source": [
        "X.head()"
      ],
      "execution_count": null,
      "outputs": [
        {
          "output_type": "execute_result",
          "data": {
            "text/html": [
              "<div>\n",
              "<style scoped>\n",
              "    .dataframe tbody tr th:only-of-type {\n",
              "        vertical-align: middle;\n",
              "    }\n",
              "\n",
              "    .dataframe tbody tr th {\n",
              "        vertical-align: top;\n",
              "    }\n",
              "\n",
              "    .dataframe thead th {\n",
              "        text-align: right;\n",
              "    }\n",
              "</style>\n",
              "<table border=\"1\" class=\"dataframe\">\n",
              "  <thead>\n",
              "    <tr style=\"text-align: right;\">\n",
              "      <th></th>\n",
              "      <th>step</th>\n",
              "      <th>type</th>\n",
              "      <th>amount</th>\n",
              "      <th>oldbalanceOrg</th>\n",
              "      <th>newbalanceOrig</th>\n",
              "      <th>oldbalanceDest</th>\n",
              "      <th>newbalanceDest</th>\n",
              "      <th>HourOfDay</th>\n",
              "      <th>errorBalanceOrig</th>\n",
              "      <th>errorBalanceDest</th>\n",
              "    </tr>\n",
              "  </thead>\n",
              "  <tbody>\n",
              "    <tr>\n",
              "      <th>2</th>\n",
              "      <td>1</td>\n",
              "      <td>0</td>\n",
              "      <td>181.00</td>\n",
              "      <td>181.0</td>\n",
              "      <td>0.0</td>\n",
              "      <td>-1.0</td>\n",
              "      <td>-1.00</td>\n",
              "      <td>1</td>\n",
              "      <td>0.00</td>\n",
              "      <td>181.0</td>\n",
              "    </tr>\n",
              "    <tr>\n",
              "      <th>3</th>\n",
              "      <td>1</td>\n",
              "      <td>1</td>\n",
              "      <td>181.00</td>\n",
              "      <td>181.0</td>\n",
              "      <td>0.0</td>\n",
              "      <td>21182.0</td>\n",
              "      <td>0.00</td>\n",
              "      <td>1</td>\n",
              "      <td>0.00</td>\n",
              "      <td>21363.0</td>\n",
              "    </tr>\n",
              "    <tr>\n",
              "      <th>15</th>\n",
              "      <td>1</td>\n",
              "      <td>1</td>\n",
              "      <td>229133.94</td>\n",
              "      <td>15325.0</td>\n",
              "      <td>0.0</td>\n",
              "      <td>5083.0</td>\n",
              "      <td>51513.44</td>\n",
              "      <td>1</td>\n",
              "      <td>213808.94</td>\n",
              "      <td>182703.5</td>\n",
              "    </tr>\n",
              "    <tr>\n",
              "      <th>19</th>\n",
              "      <td>1</td>\n",
              "      <td>0</td>\n",
              "      <td>215310.30</td>\n",
              "      <td>705.0</td>\n",
              "      <td>0.0</td>\n",
              "      <td>22425.0</td>\n",
              "      <td>0.00</td>\n",
              "      <td>1</td>\n",
              "      <td>214605.30</td>\n",
              "      <td>237735.3</td>\n",
              "    </tr>\n",
              "    <tr>\n",
              "      <th>24</th>\n",
              "      <td>1</td>\n",
              "      <td>0</td>\n",
              "      <td>311685.89</td>\n",
              "      <td>10835.0</td>\n",
              "      <td>0.0</td>\n",
              "      <td>6267.0</td>\n",
              "      <td>2719172.89</td>\n",
              "      <td>1</td>\n",
              "      <td>300850.89</td>\n",
              "      <td>-2401220.0</td>\n",
              "    </tr>\n",
              "  </tbody>\n",
              "</table>\n",
              "</div>"
            ],
            "text/plain": [
              "    step  type     amount  ...  HourOfDay  errorBalanceOrig  errorBalanceDest\n",
              "2      1     0     181.00  ...          1              0.00             181.0\n",
              "3      1     1     181.00  ...          1              0.00           21363.0\n",
              "15     1     1  229133.94  ...          1         213808.94          182703.5\n",
              "19     1     0  215310.30  ...          1         214605.30          237735.3\n",
              "24     1     0  311685.89  ...          1         300850.89        -2401220.0\n",
              "\n",
              "[5 rows x 10 columns]"
            ]
          },
          "metadata": {
            "tags": []
          },
          "execution_count": 15
        }
      ]
    },
    {
      "cell_type": "markdown",
      "metadata": {
        "id": "xh1xGQLv80Ih"
      },
      "source": [
        "# ML Classification Models\n"
      ]
    },
    {
      "cell_type": "code",
      "metadata": {
        "id": "Vsd4AbKvypjw"
      },
      "source": [
        "X_train, X_test, y_train, y_test = train_test_split(X, Y, test_size=0.3, random_state=42)"
      ],
      "execution_count": null,
      "outputs": []
    },
    {
      "cell_type": "code",
      "metadata": {
        "id": "qlCwldo4-QH3"
      },
      "source": [
        "def predictions_generator(model,hyper_params_range):\n",
        "  grid = GridSearchCV(estimator=model,param_grid=hyper_params_range, cv=4,n_jobs=-1)\n",
        "  grid.fit(X_train, y_train)\n",
        "  print({'best_hyerparameters':grid.best_params_,\n",
        "          'best_CV_score':grid.best_score_})\n",
        "  opt_model = grid.best_estimator_.fit(X_train,y_train)\n",
        "  return opt_model.predict(X_test)"
      ],
      "execution_count": null,
      "outputs": []
    },
    {
      "cell_type": "code",
      "metadata": {
        "id": "o0izy1-O3400"
      },
      "source": [
        "def model_results(model):\n",
        "  print('Confusion matrix \\n', pd.DataFrame(confusion_matrix(y_test, model.predict(X_test)), columns=['Predicted is not fraud', \"Predicted isfraud\"], index=['Actual is not fraud', 'Actual isfraud']))\n",
        "  print('accuracy : ', accuracy_score(y_test,model.predict(X_test)))\n",
        "  plot_roc_curve(model, X_test, y_test) \n",
        "  plt.show()\n"
      ],
      "execution_count": null,
      "outputs": []
    },
    {
      "cell_type": "markdown",
      "metadata": {
        "id": "0YqiikuY9C4W"
      },
      "source": [
        "## Logistic Regression\n"
      ]
    },
    {
      "cell_type": "code",
      "metadata": {
        "colab": {
          "base_uri": "https://localhost:8080/"
        },
        "id": "Q3v9fKSlydCP",
        "outputId": "652c453c-ee93-4e1b-eccf-bf170acf507c"
      },
      "source": [
        "from sklearn.linear_model import LogisticRegression\n",
        "\n",
        "Log_reg = LogisticRegression(random_state=0)\n",
        "Log_reg.fit(X_train,y_train)"
      ],
      "execution_count": null,
      "outputs": [
        {
          "output_type": "stream",
          "text": [
            "/usr/local/lib/python3.6/dist-packages/sklearn/linear_model/_logistic.py:940: ConvergenceWarning: lbfgs failed to converge (status=1):\n",
            "STOP: TOTAL NO. of ITERATIONS REACHED LIMIT.\n",
            "\n",
            "Increase the number of iterations (max_iter) or scale the data as shown in:\n",
            "    https://scikit-learn.org/stable/modules/preprocessing.html\n",
            "Please also refer to the documentation for alternative solver options:\n",
            "    https://scikit-learn.org/stable/modules/linear_model.html#logistic-regression\n",
            "  extra_warning_msg=_LOGISTIC_SOLVER_CONVERGENCE_MSG)\n"
          ],
          "name": "stderr"
        },
        {
          "output_type": "execute_result",
          "data": {
            "text/plain": [
              "LogisticRegression(C=1.0, class_weight=None, dual=False, fit_intercept=True,\n",
              "                   intercept_scaling=1, l1_ratio=None, max_iter=100,\n",
              "                   multi_class='auto', n_jobs=None, penalty='l2',\n",
              "                   random_state=0, solver='lbfgs', tol=0.0001, verbose=0,\n",
              "                   warm_start=False)"
            ]
          },
          "metadata": {
            "tags": []
          },
          "execution_count": 18
        }
      ]
    },
    {
      "cell_type": "code",
      "metadata": {
        "colab": {
          "base_uri": "https://localhost:8080/",
          "height": 367
        },
        "id": "K1Oq3cVGzcRJ",
        "outputId": "178d6c83-1847-4094-9d5f-b33729459667"
      },
      "source": [
        "model_results(Log_reg)"
      ],
      "execution_count": null,
      "outputs": [
        {
          "output_type": "stream",
          "text": [
            "Confusion matrix \n",
            "                      Predicted is not fraud  Predicted isfraud\n",
            "Actual is not fraud                  828326                301\n",
            "Actual isfraud                         1178               1318\n",
            "accuracy :  0.998220480001155\n"
          ],
          "name": "stdout"
        },
        {
          "output_type": "display_data",
          "data": {
            "image/png": "[encoded data removed]",
            "text/plain": [
              "<Figure size 432x288 with 1 Axes>"
            ]
          },
          "metadata": {
            "tags": [],
            "needs_background": "light"
          }
        }
      ]
    },
    {
      "cell_type": "markdown",
      "metadata": {
        "id": "icJqdNZB2BrQ"
      },
      "source": [
        "It has less negative impact to predict 'fraudulent' a non fraudulent transaction than predicting 'non fraudulent' a fraudulent transaction because in the first case, the bank administrator can block the transaction and check the informations before relaunching it if all is fine, but in the second case, a fraud is committed and nobody noted that. Therefore we have to minimise the rate of false-negative."
      ]
    },
    {
      "cell_type": "markdown",
      "metadata": {
        "id": "5tQ6Sxm29Kmu"
      },
      "source": [
        "## XGBoost classifier\n"
      ]
    },
    {
      "cell_type": "code",
      "metadata": {
        "colab": {
          "base_uri": "https://localhost:8080/"
        },
        "id": "0RJ54zPJ9gae",
        "outputId": "b3b80738-5391-4ff9-9221-66d3e31905eb"
      },
      "source": [
        "pip install xgboost"
      ],
      "execution_count": null,
      "outputs": [
        {
          "output_type": "stream",
          "text": [
            "Requirement already satisfied: xgboost in /usr/local/lib/python3.6/dist-packages (0.90)\n",
            "Requirement already satisfied: scipy in /usr/local/lib/python3.6/dist-packages (from xgboost) (1.4.1)\n",
            "Requirement already satisfied: numpy in /usr/local/lib/python3.6/dist-packages (from xgboost) (1.19.5)\n"
          ],
          "name": "stdout"
        }
      ]
    },
    {
      "cell_type": "code",
      "metadata": {
        "colab": {
          "base_uri": "https://localhost:8080/"
        },
        "id": "y0KiNZF6_I8y",
        "outputId": "eab28bea-6e4c-4029-d8fc-f7506509cf00"
      },
      "source": [
        "# XGB with weigths\n",
        "from xgboost import XGBClassifier\n",
        "weights = (Y == 0).sum() / (1.0 * (Y == 1).sum()) # giving class weight\n",
        "XGB = XGBClassifier(scale_pos_weight= weights, n_jobs = -1, random_state=42)\n",
        "XGB.fit(X_train, y_train)"
      ],
      "execution_count": null,
      "outputs": [
        {
          "output_type": "execute_result",
          "data": {
            "text/plain": [
              "XGBClassifier(base_score=0.5, booster='gbtree', colsample_bylevel=1,\n",
              "              colsample_bynode=1, colsample_bytree=1, gamma=0,\n",
              "              learning_rate=0.1, max_delta_step=0, max_depth=3,\n",
              "              min_child_weight=1, missing=None, n_estimators=100, n_jobs=-1,\n",
              "              nthread=None, objective='binary:logistic', random_state=42,\n",
              "              reg_alpha=0, reg_lambda=1, scale_pos_weight=336.3199805186899,\n",
              "              seed=None, silent=None, subsample=1, verbosity=1)"
            ]
          },
          "metadata": {
            "tags": []
          },
          "execution_count": 21
        }
      ]
    },
    {
      "cell_type": "code",
      "metadata": {
        "colab": {
          "base_uri": "https://localhost:8080/",
          "height": 367
        },
        "id": "BfUkj-zB_xEs",
        "outputId": "c3ff8a5c-9956-41a8-9cce-9d1b69f634b9"
      },
      "source": [
        "model_results(XGB)"
      ],
      "execution_count": null,
      "outputs": [
        {
          "output_type": "stream",
          "text": [
            "Confusion matrix \n",
            "                      Predicted is not fraud  Predicted isfraud\n",
            "Actual is not fraud                  828407                220\n",
            "Actual isfraud                            9               2487\n",
            "accuracy :  0.9997244691820585\n"
          ],
          "name": "stdout"
        },
        {
          "output_type": "display_data",
          "data": {
            "image/png": "[encoded data removed]",
            "text/plain": [
              "<Figure size 432x288 with 1 Axes>"
            ]
          },
          "metadata": {
            "tags": [],
            "needs_background": "light"
          }
        }
      ]
    },
    {
      "cell_type": "code",
      "metadata": {
        "colab": {
          "base_uri": "https://localhost:8080/"
        },
        "id": "n-9va6s9LkPN",
        "outputId": "aee56d7d-1123-40b7-a31d-a9b373580925"
      },
      "source": [
        "# XGB without weigths\n",
        "XGB_weightless = XGBClassifier(random_state=42)\n",
        "XGB_weightless.fit(X_train, y_train)"
      ],
      "execution_count": null,
      "outputs": [
        {
          "output_type": "execute_result",
          "data": {
            "text/plain": [
              "XGBClassifier(base_score=0.5, booster='gbtree', colsample_bylevel=1,\n",
              "              colsample_bynode=1, colsample_bytree=1, gamma=0,\n",
              "              learning_rate=0.1, max_delta_step=0, max_depth=3,\n",
              "              min_child_weight=1, missing=None, n_estimators=100, n_jobs=1,\n",
              "              nthread=None, objective='binary:logistic', random_state=42,\n",
              "              reg_alpha=0, reg_lambda=1, scale_pos_weight=1, seed=None,\n",
              "              silent=None, subsample=1, verbosity=1)"
            ]
          },
          "metadata": {
            "tags": []
          },
          "execution_count": 23
        }
      ]
    },
    {
      "cell_type": "code",
      "metadata": {
        "colab": {
          "base_uri": "https://localhost:8080/",
          "height": 367
        },
        "id": "kk-fEU2GLwXp",
        "outputId": "c012811e-ff09-4e51-a8e6-ffc37662aeb0"
      },
      "source": [
        "model_results(XGB_weightless)"
      ],
      "execution_count": null,
      "outputs": [
        {
          "output_type": "stream",
          "text": [
            "Confusion matrix \n",
            "                      Predicted is not fraud  Predicted isfraud\n",
            "Actual is not fraud                  828627                  0\n",
            "Actual isfraud                           11               2485\n",
            "accuracy :  0.9999867648952081\n"
          ],
          "name": "stdout"
        },
        {
          "output_type": "display_data",
          "data": {
            "image/png": "[encoded data removed]",
            "text/plain": [
              "<Figure size 432x288 with 1 Axes>"
            ]
          },
          "metadata": {
            "tags": [],
            "needs_background": "light"
          }
        }
      ]
    },
    {
      "cell_type": "markdown",
      "metadata": {
        "id": "B6LjQDVC9x2A"
      },
      "source": [
        "## Random Forest"
      ]
    },
    {
      "cell_type": "code",
      "metadata": {
        "colab": {
          "base_uri": "https://localhost:8080/"
        },
        "id": "lDKSDXQKABF5",
        "outputId": "fe8cfb91-05a1-4036-c200-f5607ac524c8"
      },
      "source": [
        "from sklearn.ensemble import RandomForestClassifier\n",
        "\n",
        "r_clf=RandomForestClassifier()\n",
        "r_clf.fit(X_train,y_train)"
      ],
      "execution_count": null,
      "outputs": [
        {
          "output_type": "execute_result",
          "data": {
            "text/plain": [
              "RandomForestClassifier(bootstrap=True, ccp_alpha=0.0, class_weight=None,\n",
              "                       criterion='gini', max_depth=None, max_features='auto',\n",
              "                       max_leaf_nodes=None, max_samples=None,\n",
              "                       min_impurity_decrease=0.0, min_impurity_split=None,\n",
              "                       min_samples_leaf=1, min_samples_split=2,\n",
              "                       min_weight_fraction_leaf=0.0, n_estimators=100,\n",
              "                       n_jobs=None, oob_score=False, random_state=None,\n",
              "                       verbose=0, warm_start=False)"
            ]
          },
          "metadata": {
            "tags": []
          },
          "execution_count": 25
        }
      ]
    },
    {
      "cell_type": "code",
      "metadata": {
        "colab": {
          "base_uri": "https://localhost:8080/",
          "height": 367
        },
        "id": "t90dhu1vPSB0",
        "outputId": "76afb534-8b6e-4628-f0d0-27c370a7fa29"
      },
      "source": [
        "model_results(r_clf)"
      ],
      "execution_count": null,
      "outputs": [
        {
          "output_type": "stream",
          "text": [
            "Confusion matrix \n",
            "                      Predicted is not fraud  Predicted isfraud\n",
            "Actual is not fraud                  828626                  1\n",
            "Actual isfraud                           13               2483\n",
            "accuracy :  0.9999831553211739\n"
          ],
          "name": "stdout"
        },
        {
          "output_type": "display_data",
          "data": {
            "image/png": "[encoded data removed]",
            "text/plain": [
              "<Figure size 432x288 with 1 Axes>"
            ]
          },
          "metadata": {
            "tags": [],
            "needs_background": "light"
          }
        }
      ]
    },
    {
      "cell_type": "markdown",
      "metadata": {
        "id": "z01DHSrN-C32"
      },
      "source": [
        "\n",
        "The above models all score well in terms of overall accuracy, but the XGB_weightless and RandomForest models particularly stand out from the rest since they negate (or almost) false negatives while considerably reducing false positives."
      ]
    },
    {
      "cell_type": "markdown",
      "metadata": {
        "id": "ZJ1vR-OFbX1X"
      },
      "source": [
        "## skewness and curtosis of numerical features"
      ]
    },
    {
      "cell_type": "markdown",
      "metadata": {
        "id": "_IP5FzUBN2FZ"
      },
      "source": [
        "We have noted that our data is highly skewed. This can have an impact on the predictions. We will perform some data transformation to reduce to skewness of our data."
      ]
    },
    {
      "cell_type": "markdown",
      "metadata": {
        "id": "0zB1QdW09A_i"
      },
      "source": [
        "### BoxCox transformation"
      ]
    },
    {
      "cell_type": "code",
      "metadata": {
        "id": "zTOmX3HSbXP6"
      },
      "source": [
        "from scipy.stats import kurtosis\n",
        "from scipy.stats import skew\n"
      ],
      "execution_count": null,
      "outputs": []
    },
    {
      "cell_type": "code",
      "metadata": {
        "id": "qOL5sA_BO8ig"
      },
      "source": [
        "# liste des features à transformer avec boxcox\n",
        "to_boxcox_features = ['amount','oldbalanceOrg','newbalanceOrig','oldbalanceDest','newbalanceDest']"
      ],
      "execution_count": null,
      "outputs": []
    },
    {
      "cell_type": "code",
      "metadata": {
        "id": "HqDHbtuuW1xv"
      },
      "source": [
        "def skew_kurtosis(feature):\n",
        "  print(feature ,' : ' ,skew(X[feature]) , kurtosis(X[feature]))"
      ],
      "execution_count": null,
      "outputs": []
    },
    {
      "cell_type": "code",
      "metadata": {
        "colab": {
          "base_uri": "https://localhost:8080/"
        },
        "id": "A1UhqIBhXDKA",
        "outputId": "c56bebf2-2d4f-4497-ea45-eed4102e1234"
      },
      "source": [
        "for i in to_boxcox_features:\n",
        "  skew_kurtosis(i)"
      ],
      "execution_count": null,
      "outputs": [
        {
          "output_type": "stream",
          "text": [
            "amount  :  21.934931099074923 868.5558639605916\n",
            "oldbalanceOrg  :  70.01171346312138 9402.871458082058\n",
            "newbalanceOrig  :  127.31948754910496 27926.00256696951\n",
            "oldbalanceDest  :  17.160171845520445 668.8118589282553\n",
            "newbalanceDest  :  16.433838497460286 585.0259199903767\n"
          ],
          "name": "stdout"
        }
      ]
    },
    {
      "cell_type": "code",
      "metadata": {
        "colab": {
          "base_uri": "https://localhost:8080/",
          "height": 197
        },
        "id": "kJZA-OA4MK1S",
        "outputId": "0411d694-7229-4337-804a-912fbdf54e8a"
      },
      "source": [
        "X.head()"
      ],
      "execution_count": null,
      "outputs": [
        {
          "output_type": "execute_result",
          "data": {
            "text/html": [
              "<div>\n",
              "<style scoped>\n",
              "    .dataframe tbody tr th:only-of-type {\n",
              "        vertical-align: middle;\n",
              "    }\n",
              "\n",
              "    .dataframe tbody tr th {\n",
              "        vertical-align: top;\n",
              "    }\n",
              "\n",
              "    .dataframe thead th {\n",
              "        text-align: right;\n",
              "    }\n",
              "</style>\n",
              "<table border=\"1\" class=\"dataframe\">\n",
              "  <thead>\n",
              "    <tr style=\"text-align: right;\">\n",
              "      <th></th>\n",
              "      <th>step</th>\n",
              "      <th>type</th>\n",
              "      <th>amount</th>\n",
              "      <th>oldbalanceOrg</th>\n",
              "      <th>newbalanceOrig</th>\n",
              "      <th>oldbalanceDest</th>\n",
              "      <th>newbalanceDest</th>\n",
              "      <th>HourOfDay</th>\n",
              "      <th>errorBalanceOrig</th>\n",
              "      <th>errorBalanceDest</th>\n",
              "    </tr>\n",
              "  </thead>\n",
              "  <tbody>\n",
              "    <tr>\n",
              "      <th>2</th>\n",
              "      <td>1</td>\n",
              "      <td>0</td>\n",
              "      <td>181.00</td>\n",
              "      <td>181.0</td>\n",
              "      <td>0.0</td>\n",
              "      <td>-1.0</td>\n",
              "      <td>-1.00</td>\n",
              "      <td>1</td>\n",
              "      <td>0.00</td>\n",
              "      <td>181.0</td>\n",
              "    </tr>\n",
              "    <tr>\n",
              "      <th>3</th>\n",
              "      <td>1</td>\n",
              "      <td>1</td>\n",
              "      <td>181.00</td>\n",
              "      <td>181.0</td>\n",
              "      <td>0.0</td>\n",
              "      <td>21182.0</td>\n",
              "      <td>0.00</td>\n",
              "      <td>1</td>\n",
              "      <td>0.00</td>\n",
              "      <td>21363.0</td>\n",
              "    </tr>\n",
              "    <tr>\n",
              "      <th>15</th>\n",
              "      <td>1</td>\n",
              "      <td>1</td>\n",
              "      <td>229133.94</td>\n",
              "      <td>15325.0</td>\n",
              "      <td>0.0</td>\n",
              "      <td>5083.0</td>\n",
              "      <td>51513.44</td>\n",
              "      <td>1</td>\n",
              "      <td>213808.94</td>\n",
              "      <td>182703.5</td>\n",
              "    </tr>\n",
              "    <tr>\n",
              "      <th>19</th>\n",
              "      <td>1</td>\n",
              "      <td>0</td>\n",
              "      <td>215310.30</td>\n",
              "      <td>705.0</td>\n",
              "      <td>0.0</td>\n",
              "      <td>22425.0</td>\n",
              "      <td>0.00</td>\n",
              "      <td>1</td>\n",
              "      <td>214605.30</td>\n",
              "      <td>237735.3</td>\n",
              "    </tr>\n",
              "    <tr>\n",
              "      <th>24</th>\n",
              "      <td>1</td>\n",
              "      <td>0</td>\n",
              "      <td>311685.89</td>\n",
              "      <td>10835.0</td>\n",
              "      <td>0.0</td>\n",
              "      <td>6267.0</td>\n",
              "      <td>2719172.89</td>\n",
              "      <td>1</td>\n",
              "      <td>300850.89</td>\n",
              "      <td>-2401220.0</td>\n",
              "    </tr>\n",
              "  </tbody>\n",
              "</table>\n",
              "</div>"
            ],
            "text/plain": [
              "    step  type     amount  ...  HourOfDay  errorBalanceOrig  errorBalanceDest\n",
              "2      1     0     181.00  ...          1              0.00             181.0\n",
              "3      1     1     181.00  ...          1              0.00           21363.0\n",
              "15     1     1  229133.94  ...          1         213808.94          182703.5\n",
              "19     1     0  215310.30  ...          1         214605.30          237735.3\n",
              "24     1     0  311685.89  ...          1         300850.89        -2401220.0\n",
              "\n",
              "[5 rows x 10 columns]"
            ]
          },
          "metadata": {
            "tags": []
          },
          "execution_count": 31
        }
      ]
    },
    {
      "cell_type": "markdown",
      "metadata": {
        "id": "8gKDZp6UaU48"
      },
      "source": [
        "Now we will perform data transformation to reduce skewness using boxcox"
      ]
    },
    {
      "cell_type": "code",
      "metadata": {
        "id": "ci4E_wU4BCNk"
      },
      "source": [
        "X_boxcox = X.copy()"
      ],
      "execution_count": null,
      "outputs": []
    },
    {
      "cell_type": "code",
      "metadata": {
        "id": "gz5ATDiEPkdE"
      },
      "source": [
        "def to_boxcox(feature):\n",
        "  X_boxcox[feature+'_boxcox'] = preprocessing.scale(boxcox(X_boxcox[feature]+2)[0])\n",
        "\n",
        "  figure = plt.figure(figsize=(16, 5))\n",
        "  figure.add_subplot(131) \n",
        "  plt.hist(X_boxcox[feature] ,facecolor='blue',alpha=0.75) \n",
        "  plt.xlabel(feature) \n",
        "  plt.title(\"initial distribution of \"+feature) \n",
        "  plt.text(10,100000,\"Skewness: {0:.2f}\".format(skew(X_boxcox[feature])))\n",
        "\n",
        "  figure.add_subplot(132)\n",
        "  plt.hist(np.sqrt(X_boxcox[feature]), facecolor = 'red', alpha=0.5)\n",
        "  plt.xlabel(\"Square root of \"+feature)\n",
        "  plt.title(\"Using SQRT on \"+feature)\n",
        "  plt.text(10, 100000, \"Skewness: {0:.2f}\".format(skew(np.sqrt(X_boxcox[feature]))))\n",
        "\n",
        "  figure.add_subplot(133)\n",
        "  plt.hist(X_boxcox[feature+'_boxcox'], facecolor = 'red', alpha=0.5)\n",
        "  plt.xlabel(\"Box cox of \"+feature)\n",
        "  plt.title(\"Using Box cox on \"+feature)\n",
        "  plt.text(10, 100000, \"Skewness: {0:.2f}\".format(skew(X_boxcox[feature+'_boxcox'])))\n",
        "\n",
        "  plt.show()\n",
        "  del X_boxcox[feature]"
      ],
      "execution_count": null,
      "outputs": []
    },
    {
      "cell_type": "code",
      "metadata": {
        "colab": {
          "base_uri": "https://localhost:8080/",
          "height": 350
        },
        "id": "hO0aB_kjRPc_",
        "outputId": "2f971e26-ba56-4595-ed5d-30ada7e26ef2"
      },
      "source": [
        "# amount to boxcox\n",
        "to_boxcox('amount')"
      ],
      "execution_count": null,
      "outputs": [
        {
          "output_type": "display_data",
          "data": {
            "image/png": "[encoded data removed]",
            "text/plain": [
              "<Figure size 1152x360 with 3 Axes>"
            ]
          },
          "metadata": {
            "tags": [],
            "needs_background": "light"
          }
        }
      ]
    },
    {
      "cell_type": "code",
      "metadata": {
        "colab": {
          "base_uri": "https://localhost:8080/",
          "height": 250
        },
        "id": "vBMDMjkoSeaM",
        "outputId": "fe7e086a-2b81-4731-9607-a829baf1d346"
      },
      "source": [
        "# 'oldbalanceOrg' to boxcox\n",
        "to_boxcox('oldbalanceOrg')"
      ],
      "execution_count": null,
      "outputs": [
        {
          "output_type": "display_data",
          "data": {
            "image/png": "[encoded data removed]",
            "text/plain": [
              "<Figure size 1152x360 with 3 Axes>"
            ]
          },
          "metadata": {
            "tags": [],
            "needs_background": "light"
          }
        }
      ]
    },
    {
      "cell_type": "code",
      "metadata": {
        "colab": {
          "base_uri": "https://localhost:8080/",
          "height": 261
        },
        "id": "ZF4tgvSfSoTi",
        "outputId": "ec14fc70-7f43-408f-a04f-9b67287f2040"
      },
      "source": [
        "# newbalanceOrig to boxcox\n",
        "to_boxcox('newbalanceOrig')"
      ],
      "execution_count": null,
      "outputs": [
        {
          "output_type": "display_data",
          "data": {
            "image/png": "[encoded data removed]",
            "text/plain": [
              "<Figure size 1152x360 with 3 Axes>"
            ]
          },
          "metadata": {
            "tags": [],
            "needs_background": "light"
          }
        }
      ]
    },
    {
      "cell_type": "code",
      "metadata": {
        "colab": {
          "base_uri": "https://localhost:8080/",
          "height": 374
        },
        "id": "-CnBk2QhS1rD",
        "outputId": "531b5734-e12b-4ef1-ea3e-85ff9e319f0e"
      },
      "source": [
        "# oldbalanceDest to boxcox\n",
        "to_boxcox('oldbalanceDest')"
      ],
      "execution_count": null,
      "outputs": [
        {
          "output_type": "stream",
          "text": [
            "/usr/local/lib/python3.6/dist-packages/pandas/core/series.py:726: RuntimeWarning: invalid value encountered in sqrt\n",
            "  result = getattr(ufunc, method)(*inputs, **kwargs)\n"
          ],
          "name": "stderr"
        },
        {
          "output_type": "display_data",
          "data": {
            "image/png": "[encoded data removed]",
            "text/plain": [
              "<Figure size 1152x360 with 3 Axes>"
            ]
          },
          "metadata": {
            "tags": [],
            "needs_background": "light"
          }
        }
      ]
    },
    {
      "cell_type": "code",
      "metadata": {
        "colab": {
          "base_uri": "https://localhost:8080/",
          "height": 385
        },
        "id": "XDYoWkVLvdZx",
        "outputId": "03c56c83-d7ab-4ae9-dda3-aae14a7dd49c"
      },
      "source": [
        "# newbalanceDest to boxcox \n",
        "to_boxcox('newbalanceDest')"
      ],
      "execution_count": null,
      "outputs": [
        {
          "output_type": "stream",
          "text": [
            "/usr/local/lib/python3.6/dist-packages/pandas/core/series.py:726: RuntimeWarning: invalid value encountered in sqrt\n",
            "  result = getattr(ufunc, method)(*inputs, **kwargs)\n"
          ],
          "name": "stderr"
        },
        {
          "output_type": "display_data",
          "data": {
            "image/png": "[encoded data removed]",
            "text/plain": [
              "<Figure size 1152x360 with 3 Axes>"
            ]
          },
          "metadata": {
            "tags": [],
            "needs_background": "light"
          }
        }
      ]
    },
    {
      "cell_type": "code",
      "metadata": {
        "colab": {
          "base_uri": "https://localhost:8080/",
          "height": 217
        },
        "id": "yz_1QDzUS26_",
        "outputId": "e33a4cb9-bdcc-4a6d-aa5a-81718ba1c157"
      },
      "source": [
        "X_boxcox.head()"
      ],
      "execution_count": null,
      "outputs": [
        {
          "output_type": "execute_result",
          "data": {
            "text/html": [
              "<div>\n",
              "<style scoped>\n",
              "    .dataframe tbody tr th:only-of-type {\n",
              "        vertical-align: middle;\n",
              "    }\n",
              "\n",
              "    .dataframe tbody tr th {\n",
              "        vertical-align: top;\n",
              "    }\n",
              "\n",
              "    .dataframe thead th {\n",
              "        text-align: right;\n",
              "    }\n",
              "</style>\n",
              "<table border=\"1\" class=\"dataframe\">\n",
              "  <thead>\n",
              "    <tr style=\"text-align: right;\">\n",
              "      <th></th>\n",
              "      <th>step</th>\n",
              "      <th>type</th>\n",
              "      <th>HourOfDay</th>\n",
              "      <th>errorBalanceOrig</th>\n",
              "      <th>errorBalanceDest</th>\n",
              "      <th>amount_boxcox</th>\n",
              "      <th>oldbalanceOrg_boxcox</th>\n",
              "      <th>newbalanceOrig_boxcox</th>\n",
              "      <th>oldbalanceDest_boxcox</th>\n",
              "      <th>newbalanceDest_boxcox</th>\n",
              "    </tr>\n",
              "  </thead>\n",
              "  <tbody>\n",
              "    <tr>\n",
              "      <th>2</th>\n",
              "      <td>1</td>\n",
              "      <td>0</td>\n",
              "      <td>1</td>\n",
              "      <td>0.00</td>\n",
              "      <td>181.0</td>\n",
              "      <td>-4.096001</td>\n",
              "      <td>-0.015336</td>\n",
              "      <td>-0.331126</td>\n",
              "      <td>-1.883192</td>\n",
              "      <td>-3.894139</td>\n",
              "    </tr>\n",
              "    <tr>\n",
              "      <th>3</th>\n",
              "      <td>1</td>\n",
              "      <td>1</td>\n",
              "      <td>1</td>\n",
              "      <td>0.00</td>\n",
              "      <td>21363.0</td>\n",
              "      <td>-4.096001</td>\n",
              "      <td>-0.015336</td>\n",
              "      <td>-0.331126</td>\n",
              "      <td>-0.927804</td>\n",
              "      <td>-3.834587</td>\n",
              "    </tr>\n",
              "    <tr>\n",
              "      <th>15</th>\n",
              "      <td>1</td>\n",
              "      <td>1</td>\n",
              "      <td>1</td>\n",
              "      <td>213808.94</td>\n",
              "      <td>182703.5</td>\n",
              "      <td>0.287972</td>\n",
              "      <td>0.853104</td>\n",
              "      <td>-0.331126</td>\n",
              "      <td>-1.202908</td>\n",
              "      <td>-1.594997</td>\n",
              "    </tr>\n",
              "    <tr>\n",
              "      <th>19</th>\n",
              "      <td>1</td>\n",
              "      <td>0</td>\n",
              "      <td>1</td>\n",
              "      <td>214605.30</td>\n",
              "      <td>237735.3</td>\n",
              "      <td>0.234347</td>\n",
              "      <td>0.260917</td>\n",
              "      <td>-0.331126</td>\n",
              "      <td>-0.915090</td>\n",
              "      <td>-3.834587</td>\n",
              "    </tr>\n",
              "    <tr>\n",
              "      <th>24</th>\n",
              "      <td>1</td>\n",
              "      <td>0</td>\n",
              "      <td>1</td>\n",
              "      <td>300850.89</td>\n",
              "      <td>-2401220.0</td>\n",
              "      <td>0.558184</td>\n",
              "      <td>0.788825</td>\n",
              "      <td>-0.331126</td>\n",
              "      <td>-1.167311</td>\n",
              "      <td>0.805964</td>\n",
              "    </tr>\n",
              "  </tbody>\n",
              "</table>\n",
              "</div>"
            ],
            "text/plain": [
              "    step  type  ...  oldbalanceDest_boxcox  newbalanceDest_boxcox\n",
              "2      1     0  ...              -1.883192              -3.894139\n",
              "3      1     1  ...              -0.927804              -3.834587\n",
              "15     1     1  ...              -1.202908              -1.594997\n",
              "19     1     0  ...              -0.915090              -3.834587\n",
              "24     1     0  ...              -1.167311               0.805964\n",
              "\n",
              "[5 rows x 10 columns]"
            ]
          },
          "metadata": {
            "tags": []
          },
          "execution_count": 39
        }
      ]
    },
    {
      "cell_type": "code",
      "metadata": {
        "id": "_ReH1vcFIDaV"
      },
      "source": [
        "X_boxcox['errorBalanceOrig'] = X_boxcox.newbalanceOrig_boxcox + X_boxcox.amount_boxcox - X_boxcox.oldbalanceOrg_boxcox\n",
        "X_boxcox['errorBalanceDest'] = X_boxcox.oldbalanceDest_boxcox + X_boxcox.amount_boxcox - X_boxcox.newbalanceDest_boxcox"
      ],
      "execution_count": null,
      "outputs": []
    },
    {
      "cell_type": "markdown",
      "metadata": {
        "id": "Bs0di7UQB2iV"
      },
      "source": [
        "**ML Models applied to BoxCox-ed data**"
      ]
    },
    {
      "cell_type": "code",
      "metadata": {
        "id": "kxT3_DywCAVU"
      },
      "source": [
        "X_train_bc, X_test_bc, y_train_bc, y_test_bc = train_test_split(X_boxcox, Y, test_size=0.3, random_state=42)"
      ],
      "execution_count": null,
      "outputs": []
    },
    {
      "cell_type": "code",
      "metadata": {
        "id": "rlNOpU8BEyuE"
      },
      "source": [
        "def model_results_bc(model):\n",
        "  print('Confusion matrix \\n', pd.DataFrame(confusion_matrix(y_test_bc, model.predict(X_test_bc)), columns=['Predicted is not fraud', \"Predicted isfraud\"], index=['Actual is not fraud', 'Actual isfraud']))\n",
        "  print('accuracy : ', accuracy_score(y_test_bc,model.predict(X_test_bc)))\n",
        "  plot_roc_curve(model, X_test_bc, y_test_bc) \n",
        "  plt.show()"
      ],
      "execution_count": null,
      "outputs": []
    },
    {
      "cell_type": "code",
      "metadata": {
        "colab": {
          "base_uri": "https://localhost:8080/",
          "height": 510
        },
        "id": "dhEg7YyzCoBQ",
        "outputId": "d47e22a4-5312-4fd7-c1c0-21e89030511d"
      },
      "source": [
        "# logistic regression\n",
        "\n",
        "Log_reg = LogisticRegression(random_state=0)\n",
        "Log_reg.fit(X_train_bc,y_train_bc)\n",
        "\n",
        "model_results_bc(Log_reg)"
      ],
      "execution_count": null,
      "outputs": [
        {
          "output_type": "stream",
          "text": [
            "/usr/local/lib/python3.6/dist-packages/sklearn/linear_model/_logistic.py:940: ConvergenceWarning: lbfgs failed to converge (status=1):\n",
            "STOP: TOTAL NO. of ITERATIONS REACHED LIMIT.\n",
            "\n",
            "Increase the number of iterations (max_iter) or scale the data as shown in:\n",
            "    https://scikit-learn.org/stable/modules/preprocessing.html\n",
            "Please also refer to the documentation for alternative solver options:\n",
            "    https://scikit-learn.org/stable/modules/linear_model.html#logistic-regression\n",
            "  extra_warning_msg=_LOGISTIC_SOLVER_CONVERGENCE_MSG)\n"
          ],
          "name": "stderr"
        },
        {
          "output_type": "stream",
          "text": [
            "Confusion matrix \n",
            "                      Predicted is not fraud  Predicted isfraud\n",
            "Actual is not fraud                  828585                 42\n",
            "Actual isfraud                         1415               1081\n",
            "accuracy :  0.998246950210739\n"
          ],
          "name": "stdout"
        },
        {
          "output_type": "display_data",
          "data": {
            "image/png": "[encoded data removed]",
            "text/plain": [
              "<Figure size 432x288 with 1 Axes>"
            ]
          },
          "metadata": {
            "tags": [],
            "needs_background": "light"
          }
        }
      ]
    },
    {
      "cell_type": "code",
      "metadata": {
        "colab": {
          "base_uri": "https://localhost:8080/",
          "height": 367
        },
        "id": "suAMIfIfC_Pi",
        "outputId": "bcc0d078-794b-4716-ca43-e86beeaddd5f"
      },
      "source": [
        "# XGB with weigths\n",
        "\n",
        "weights = (Y == 0).sum() / (1.0 * (Y == 1).sum()) # giving class weight\n",
        "XGB = XGBClassifier(scale_pos_weight= weights, n_jobs = -1, random_state=42)\n",
        "XGB.fit(X_train_bc, y_train_bc)\n",
        "\n",
        "model_results_bc(XGB)"
      ],
      "execution_count": null,
      "outputs": [
        {
          "output_type": "stream",
          "text": [
            "Confusion matrix \n",
            "                      Predicted is not fraud  Predicted isfraud\n",
            "Actual is not fraud                  814134              14493\n",
            "Actual isfraud                           13               2483\n",
            "accuracy :  0.9825465063534519\n"
          ],
          "name": "stdout"
        },
        {
          "output_type": "display_data",
          "data": {
            "image/png": "[encoded data removed]",
            "text/plain": [
              "<Figure size 432x288 with 1 Axes>"
            ]
          },
          "metadata": {
            "tags": [],
            "needs_background": "light"
          }
        }
      ]
    },
    {
      "cell_type": "code",
      "metadata": {
        "colab": {
          "base_uri": "https://localhost:8080/",
          "height": 367
        },
        "id": "2QJYo-4eDQKh",
        "outputId": "f684fc0f-ddeb-41ff-d080-75619f42a4e7"
      },
      "source": [
        "# XGB without weigths\n",
        "XGB_weightless = XGBClassifier(random_state=42)\n",
        "XGB_weightless.fit(X_train_bc, y_train_bc)\n",
        "\n",
        "model_results_bc(XGB_weightless)"
      ],
      "execution_count": null,
      "outputs": [
        {
          "output_type": "stream",
          "text": [
            "Confusion matrix \n",
            "                      Predicted is not fraud  Predicted isfraud\n",
            "Actual is not fraud                  828608                 19\n",
            "Actual isfraud                          514               1982\n",
            "accuracy :  0.9993586990132628\n"
          ],
          "name": "stdout"
        },
        {
          "output_type": "display_data",
          "data": {
            "image/png": "[encoded data removed]",
            "text/plain": [
              "<Figure size 432x288 with 1 Axes>"
            ]
          },
          "metadata": {
            "tags": [],
            "needs_background": "light"
          }
        }
      ]
    },
    {
      "cell_type": "code",
      "metadata": {
        "colab": {
          "base_uri": "https://localhost:8080/",
          "height": 367
        },
        "id": "IUnrHF7eDkE8",
        "outputId": "c2f645ff-c789-4eac-b178-db5378ada7dc"
      },
      "source": [
        "# random forest classifier\n",
        "r_clf=RandomForestClassifier()\n",
        "r_clf.fit(X_train_bc,y_train_bc)\n",
        "\n",
        "model_results_bc(r_clf)"
      ],
      "execution_count": null,
      "outputs": [
        {
          "output_type": "stream",
          "text": [
            "Confusion matrix \n",
            "                      Predicted is not fraud  Predicted isfraud\n",
            "Actual is not fraud                  828592                 35\n",
            "Actual isfraud                          409               2087\n",
            "accuracy :  0.9994657830429431\n"
          ],
          "name": "stdout"
        },
        {
          "output_type": "display_data",
          "data": {
            "image/png": "[encoded data removed]",
            "text/plain": [
              "<Figure size 432x288 with 1 Axes>"
            ]
          },
          "metadata": {
            "tags": [],
            "needs_background": "light"
          }
        }
      ]
    },
    {
      "cell_type": "markdown",
      "metadata": {
        "id": "AZt-TsYAOfU5"
      },
      "source": [
        "Despite the fact that BoxCox considerably reduces the skewness of each column, predictions are not improved compared to the normal data case. This is probably due to the fact boxcox is applied to each feature independently to others. Therefore, the scale between features are no more respected (the definition of balances error are skewed for example). \n",
        "\n",
        "Now we will try to apply the same (log) transformation to all the features to preserve that relative scale while reducing the skewness of data."
      ]
    },
    {
      "cell_type": "markdown",
      "metadata": {
        "id": "7vHB4DK-FZ7s"
      },
      "source": [
        "### Log-transformation"
      ]
    },
    {
      "cell_type": "code",
      "metadata": {
        "id": "Irb56Sx-FZ72"
      },
      "source": [
        "from scipy.stats import kurtosis\n",
        "from scipy.stats import skew\n"
      ],
      "execution_count": null,
      "outputs": []
    },
    {
      "cell_type": "code",
      "metadata": {
        "id": "QGvtHT_uFZ73"
      },
      "source": [
        "# liste des features à transformer avec boxcox\n",
        "to_log_features = ['amount','oldbalanceOrg','newbalanceOrig','oldbalanceDest','newbalanceDest']"
      ],
      "execution_count": null,
      "outputs": []
    },
    {
      "cell_type": "markdown",
      "metadata": {
        "id": "bBki7SPRFZ76"
      },
      "source": [
        "Now we will perform data transformation to reduce skewness using Log transformation"
      ]
    },
    {
      "cell_type": "code",
      "metadata": {
        "id": "jm60Y6tBGBtr"
      },
      "source": [
        "import math\n",
        "def log_trans(x):\n",
        "  if x==-1:\n",
        "    return -1\n",
        "  else:\n",
        "    return math.log1p(x)"
      ],
      "execution_count": null,
      "outputs": []
    },
    {
      "cell_type": "code",
      "metadata": {
        "id": "oF3jiZRMFZ76"
      },
      "source": [
        "X_log = X.copy()"
      ],
      "execution_count": null,
      "outputs": []
    },
    {
      "cell_type": "code",
      "metadata": {
        "id": "jAMIPnGoGpMv"
      },
      "source": [
        "for f in to_log_features:\n",
        "  X_log[f] = X_log[f].apply(log_trans)"
      ],
      "execution_count": null,
      "outputs": []
    },
    {
      "cell_type": "code",
      "metadata": {
        "colab": {
          "base_uri": "https://localhost:8080/",
          "height": 197
        },
        "id": "A0EwLBCJHRG4",
        "outputId": "b2950128-181e-47da-bc8b-593446ab9fc9"
      },
      "source": [
        "X_log.head()"
      ],
      "execution_count": null,
      "outputs": [
        {
          "output_type": "execute_result",
          "data": {
            "text/html": [
              "<div>\n",
              "<style scoped>\n",
              "    .dataframe tbody tr th:only-of-type {\n",
              "        vertical-align: middle;\n",
              "    }\n",
              "\n",
              "    .dataframe tbody tr th {\n",
              "        vertical-align: top;\n",
              "    }\n",
              "\n",
              "    .dataframe thead th {\n",
              "        text-align: right;\n",
              "    }\n",
              "</style>\n",
              "<table border=\"1\" class=\"dataframe\">\n",
              "  <thead>\n",
              "    <tr style=\"text-align: right;\">\n",
              "      <th></th>\n",
              "      <th>step</th>\n",
              "      <th>type</th>\n",
              "      <th>amount</th>\n",
              "      <th>oldbalanceOrg</th>\n",
              "      <th>newbalanceOrig</th>\n",
              "      <th>oldbalanceDest</th>\n",
              "      <th>newbalanceDest</th>\n",
              "      <th>HourOfDay</th>\n",
              "      <th>errorBalanceOrig</th>\n",
              "      <th>errorBalanceDest</th>\n",
              "    </tr>\n",
              "  </thead>\n",
              "  <tbody>\n",
              "    <tr>\n",
              "      <th>2</th>\n",
              "      <td>1</td>\n",
              "      <td>0</td>\n",
              "      <td>5.204007</td>\n",
              "      <td>5.204007</td>\n",
              "      <td>0.0</td>\n",
              "      <td>-1.000000</td>\n",
              "      <td>-1.000000</td>\n",
              "      <td>1</td>\n",
              "      <td>0.00</td>\n",
              "      <td>181.0</td>\n",
              "    </tr>\n",
              "    <tr>\n",
              "      <th>3</th>\n",
              "      <td>1</td>\n",
              "      <td>1</td>\n",
              "      <td>5.204007</td>\n",
              "      <td>5.204007</td>\n",
              "      <td>0.0</td>\n",
              "      <td>9.960954</td>\n",
              "      <td>0.000000</td>\n",
              "      <td>1</td>\n",
              "      <td>0.00</td>\n",
              "      <td>21363.0</td>\n",
              "    </tr>\n",
              "    <tr>\n",
              "      <th>15</th>\n",
              "      <td>1</td>\n",
              "      <td>1</td>\n",
              "      <td>12.342066</td>\n",
              "      <td>9.637306</td>\n",
              "      <td>0.0</td>\n",
              "      <td>8.533854</td>\n",
              "      <td>10.849617</td>\n",
              "      <td>1</td>\n",
              "      <td>213808.94</td>\n",
              "      <td>182703.5</td>\n",
              "    </tr>\n",
              "    <tr>\n",
              "      <th>19</th>\n",
              "      <td>1</td>\n",
              "      <td>0</td>\n",
              "      <td>12.279840</td>\n",
              "      <td>6.559615</td>\n",
              "      <td>0.0</td>\n",
              "      <td>10.017976</td>\n",
              "      <td>0.000000</td>\n",
              "      <td>1</td>\n",
              "      <td>214605.30</td>\n",
              "      <td>237735.3</td>\n",
              "    </tr>\n",
              "    <tr>\n",
              "      <th>24</th>\n",
              "      <td>1</td>\n",
              "      <td>0</td>\n",
              "      <td>12.649754</td>\n",
              "      <td>9.290629</td>\n",
              "      <td>0.0</td>\n",
              "      <td>8.743213</td>\n",
              "      <td>14.815839</td>\n",
              "      <td>1</td>\n",
              "      <td>300850.89</td>\n",
              "      <td>-2401220.0</td>\n",
              "    </tr>\n",
              "  </tbody>\n",
              "</table>\n",
              "</div>"
            ],
            "text/plain": [
              "    step  type     amount  ...  HourOfDay  errorBalanceOrig  errorBalanceDest\n",
              "2      1     0   5.204007  ...          1              0.00             181.0\n",
              "3      1     1   5.204007  ...          1              0.00           21363.0\n",
              "15     1     1  12.342066  ...          1         213808.94          182703.5\n",
              "19     1     0  12.279840  ...          1         214605.30          237735.3\n",
              "24     1     0  12.649754  ...          1         300850.89        -2401220.0\n",
              "\n",
              "[5 rows x 10 columns]"
            ]
          },
          "metadata": {
            "tags": []
          },
          "execution_count": 53
        }
      ]
    },
    {
      "cell_type": "code",
      "metadata": {
        "id": "ipcIiEeUFZ76"
      },
      "source": [
        "def log_skew(feature):\n",
        "  print(feature ,' : ' ,skew(X[feature]) , skew(X_boxcox[feature+'_boxcox']) , skew(X_log[feature]))"
      ],
      "execution_count": null,
      "outputs": []
    },
    {
      "cell_type": "code",
      "metadata": {
        "colab": {
          "base_uri": "https://localhost:8080/"
        },
        "id": "H_oprFnRFZ77",
        "outputId": "39fb67cc-2ff6-4743-e01f-02c6175a1e9e"
      },
      "source": [
        "for i in to_log_features:\n",
        "  log_skew(i)"
      ],
      "execution_count": null,
      "outputs": [
        {
          "output_type": "stream",
          "text": [
            "amount  :  21.934931099074923 0.0838543253245437 -0.6988895540430183\n",
            "oldbalanceOrg  :  70.01171346312138 0.08044554306854679 0.0941757693717401\n",
            "newbalanceOrig  :  127.31948754910496 2.6889231666991753 2.7872861453093036\n",
            "oldbalanceDest  :  17.160171845520445 -0.3247421248375664 -1.7045503345364068\n",
            "newbalanceDest  :  16.433838497460286 0.14931768952968996 -2.963342047460222\n"
          ],
          "name": "stdout"
        }
      ]
    },
    {
      "cell_type": "markdown",
      "metadata": {
        "id": "tpahLYDFZgGq"
      },
      "source": [
        "we can noted that the log-transformation is a little less efficient than the boxcox transformation in terms of reducing the skewness."
      ]
    },
    {
      "cell_type": "code",
      "metadata": {
        "id": "8RUEqwCaFZ7-"
      },
      "source": [
        "# feature engineering\n",
        "\n",
        "X_log['errorBalanceOrig'] = X_log.newbalanceOrig + X_log.amount - X_log.oldbalanceOrg\n",
        "X_log['errorBalanceDest'] = X_log.oldbalanceDest + X_log.amount - X_log.newbalanceDest"
      ],
      "execution_count": null,
      "outputs": []
    },
    {
      "cell_type": "markdown",
      "metadata": {
        "id": "4JJJNYm4FZ7-"
      },
      "source": [
        "**ML Models applied to log-ed data**"
      ]
    },
    {
      "cell_type": "code",
      "metadata": {
        "id": "fQlzFeApFZ7_"
      },
      "source": [
        "X_train_log, X_test_log, y_train_log, y_test_log = train_test_split(X_log, Y, test_size=0.3, random_state=42)"
      ],
      "execution_count": null,
      "outputs": []
    },
    {
      "cell_type": "code",
      "metadata": {
        "id": "2bOiuYC7FZ7_"
      },
      "source": [
        "def model_results_log(model):\n",
        "  print('Confusion matrix \\n', pd.DataFrame(confusion_matrix(y_test_log, model.predict(X_test_log)), columns=['Predicted is not fraud', \"Predicted isfraud\"], index=['Actual is not fraud', 'Actual isfraud']))\n",
        "  print('accuracy : ', accuracy_score(y_test_log,model.predict(X_test_log)))\n",
        "  plot_roc_curve(model, X_test_log, y_test_log) \n",
        "  plt.show()"
      ],
      "execution_count": null,
      "outputs": []
    },
    {
      "cell_type": "code",
      "metadata": {
        "colab": {
          "base_uri": "https://localhost:8080/",
          "height": 510
        },
        "id": "3Ikg6ykkFZ7_",
        "outputId": "dd01168a-ab78-42b2-b80d-22dc76972188"
      },
      "source": [
        "# logistic regression\n",
        "\n",
        "Log_reg = LogisticRegression(random_state=0)\n",
        "Log_reg.fit(X_train_log,y_train_log)\n",
        "\n",
        "model_results_log(Log_reg)"
      ],
      "execution_count": null,
      "outputs": [
        {
          "output_type": "stream",
          "text": [
            "/usr/local/lib/python3.6/dist-packages/sklearn/linear_model/_logistic.py:940: ConvergenceWarning: lbfgs failed to converge (status=1):\n",
            "STOP: TOTAL NO. of ITERATIONS REACHED LIMIT.\n",
            "\n",
            "Increase the number of iterations (max_iter) or scale the data as shown in:\n",
            "    https://scikit-learn.org/stable/modules/preprocessing.html\n",
            "Please also refer to the documentation for alternative solver options:\n",
            "    https://scikit-learn.org/stable/modules/linear_model.html#logistic-regression\n",
            "  extra_warning_msg=_LOGISTIC_SOLVER_CONVERGENCE_MSG)\n"
          ],
          "name": "stderr"
        },
        {
          "output_type": "stream",
          "text": [
            "Confusion matrix \n",
            "                      Predicted is not fraud  Predicted isfraud\n",
            "Actual is not fraud                  828464                163\n",
            "Actual isfraud                         1136               1360\n",
            "accuracy :  0.9984370544432052\n"
          ],
          "name": "stdout"
        },
        {
          "output_type": "display_data",
          "data": {
            "image/png": "[encoded data removed]",
            "text/plain": [
              "<Figure size 432x288 with 1 Axes>"
            ]
          },
          "metadata": {
            "tags": [],
            "needs_background": "light"
          }
        }
      ]
    },
    {
      "cell_type": "code",
      "metadata": {
        "colab": {
          "base_uri": "https://localhost:8080/",
          "height": 367
        },
        "id": "J5zUX3wLFZ7_",
        "outputId": "bc22b4f4-31ed-4d82-a5f8-830527c3f9b2"
      },
      "source": [
        "# XGB with weigths\n",
        "\n",
        "weights = (Y == 0).sum() / (1.0 * (Y == 1).sum()) # giving class weight\n",
        "XGB = XGBClassifier(scale_pos_weight= weights, n_jobs = -1, random_state=42)\n",
        "XGB.fit(X_train_log, y_train_log)\n",
        "\n",
        "model_results_log(XGB)"
      ],
      "execution_count": null,
      "outputs": [
        {
          "output_type": "stream",
          "text": [
            "Confusion matrix \n",
            "                      Predicted is not fraud  Predicted isfraud\n",
            "Actual is not fraud                  828404                223\n",
            "Actual isfraud                            9               2487\n",
            "accuracy :  0.9997208596080244\n"
          ],
          "name": "stdout"
        },
        {
          "output_type": "display_data",
          "data": {
            "image/png": "[encoded data removed]",
            "text/plain": [
              "<Figure size 432x288 with 1 Axes>"
            ]
          },
          "metadata": {
            "tags": [],
            "needs_background": "light"
          }
        }
      ]
    },
    {
      "cell_type": "code",
      "metadata": {
        "colab": {
          "base_uri": "https://localhost:8080/",
          "height": 367
        },
        "id": "atbEupX1FZ8A",
        "outputId": "f12e3f2d-a22a-46e8-c6c5-b0c3d3db2a58"
      },
      "source": [
        "# XGB without weigths\n",
        "XGB_weightless = XGBClassifier(random_state=42)\n",
        "XGB_weightless.fit(X_train_log, y_train_log)\n",
        "\n",
        "model_results_log(XGB_weightless)"
      ],
      "execution_count": null,
      "outputs": [
        {
          "output_type": "stream",
          "text": [
            "Confusion matrix \n",
            "                      Predicted is not fraud  Predicted isfraud\n",
            "Actual is not fraud                  828627                  0\n",
            "Actual isfraud                           13               2483\n",
            "accuracy :  0.9999843585125187\n"
          ],
          "name": "stdout"
        },
        {
          "output_type": "display_data",
          "data": {
            "image/png": "[encoded data removed]",
            "text/plain": [
              "<Figure size 432x288 with 1 Axes>"
            ]
          },
          "metadata": {
            "tags": [],
            "needs_background": "light"
          }
        }
      ]
    },
    {
      "cell_type": "code",
      "metadata": {
        "colab": {
          "base_uri": "https://localhost:8080/",
          "height": 367
        },
        "id": "WnuNvlf1FZ8A",
        "outputId": "ba7d322c-f6f1-4e3d-c114-b767b8a697a8"
      },
      "source": [
        "# random forest classifier\n",
        "r_clf=RandomForestClassifier()\n",
        "r_clf.fit(X_train_log,y_train_log)\n",
        "\n",
        "model_results_log(r_clf)"
      ],
      "execution_count": null,
      "outputs": [
        {
          "output_type": "stream",
          "text": [
            "Confusion matrix \n",
            "                      Predicted is not fraud  Predicted isfraud\n",
            "Actual is not fraud                  828627                  0\n",
            "Actual isfraud                           11               2485\n",
            "accuracy :  0.9999867648952081\n"
          ],
          "name": "stdout"
        },
        {
          "output_type": "display_data",
          "data": {
            "image/png": "[encoded data removed]",
            "text/plain": [
              "<Figure size 432x288 with 1 Axes>"
            ]
          },
          "metadata": {
            "tags": [],
            "needs_background": "light"
          }
        }
      ]
    },
    {
      "cell_type": "markdown",
      "metadata": {
        "id": "KOrjaL1detaM"
      },
      "source": [
        "# Conclusions"
      ]
    },
    {
      "cell_type": "markdown",
      "metadata": {
        "id": "Y20IeoxRewWO"
      },
      "source": [
        "The models we have trained with the aim to predict if a bank transaction is a fraud or not are very precise, but not perfect. The choice to work with one and not the others in real life cases depends on the cost of a false negative vs false positive mistake.\n",
        "\n",
        "In this line of ideas, it can be relevant to make a comparative study between the cost of increasing our false negative rate by 2, and the cost of increasing our false positive rate by 223 (Randomforest VS XGBoost with weights applied on log-transformed data).\n"
      ]
    }
  ]
}